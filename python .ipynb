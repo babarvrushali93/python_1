{
 "cells": [
  {
   "cell_type": "markdown",
   "id": "97d25a6a",
   "metadata": {},
   "source": [
    "-\"google \"is created  lib \"TensorFlow\" and \"keras\" wind use in ml and dl .  - \"fecebook\" is create lib \" pytorch \" gain of varity  \"computer vision & advance NLP . resetly \"prompt engineering\" and \"langgchain\"  in every  give intergraction  of python API's \n",
    "-\"big data \" and \"data engineering\"  use in python lib \"spark\"\n",
    "-\"data analytics\" use python \" power python\" is \"grate and powerful\" "
   ]
  },
  {
   "cell_type": "markdown",
   "id": "bf455c22",
   "metadata": {},
   "source": [
    "# python programming  language\n",
    "\n",
    "- python is very power langunge .\n",
    "- python is easy to use and easy to learn .\n",
    "- python is popular and veritial langune \n",
    "\n",
    "\n",
    "- python use (industry):  1. web development.\n",
    "                          2. data science\n",
    "                          3. big data\n",
    "                          4. robotics\n",
    "                          5. data analytics\n",
    "                          \n",
    "- python basic (data struture): 1.list         \n",
    "                               2.tuple\n",
    "                               3.set\n",
    "                               4.dict\n",
    "                               5.function\n",
    "                 \n",
    " 6. intger,7.string,8.float,9.boolen,    \n",
    " \n",
    " - OOP's programming concept : todays power (REAL-TIME DEVELOPMENT)\n",
    " \n",
    " - \"roadmao\" to web developer : \"basic of python\" and \"django\"\n",
    " \n",
    " - ML: use may \"lib\" like pandas,numpy,scikit learn.\n",
    " \n",
    " - DL: use may \"lib\" like TensorFlow , pytorch,mxnet.\n",
    " \n",
    " - BIG DATA: use may \"lib\" like spark + python.\n",
    " \n",
    " - DATA ANALYTICS : use may \"lib\" like basic of python , pandas ,file processing,numpy."
   ]
  }
 ],
 "metadata": {
  "kernelspec": {
   "display_name": "Python 3 (ipykernel)",
   "language": "python",
   "name": "python3"
  },
  "language_info": {
   "codemirror_mode": {
    "name": "ipython",
    "version": 3
   },
   "file_extension": ".py",
   "mimetype": "text/x-python",
   "name": "python",
   "nbconvert_exporter": "python",
   "pygments_lexer": "ipython3",
   "version": "3.10.9"
  }
 },
 "nbformat": 4,
 "nbformat_minor": 5
}
