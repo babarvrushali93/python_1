{
 "cells": [
  {
   "cell_type": "code",
   "execution_count": null,
   "id": "f62e6942",
   "metadata": {},
   "outputs": [],
   "source": [
    "q1. nested opraction. \n",
    "q2.compraction opraction. \n",
    "q3. count no of later in a string.\n",
    "q4.reverse order using while loop \n",
    "q5.vowal or not vowal. \n",
    "q6.palidrome or not palidrome in string."
   ]
  },
  {
   "cell_type": "code",
   "execution_count": null,
   "id": "91bdcae3",
   "metadata": {},
   "outputs": [],
   "source": [
    "#q1. nested opraction.\n",
    "\n",
    "n = 4\n",
    "for i in range(0,n):\n",
    "    for j in range(0,i+1):\n",
    "        print(\"*\" , end = \" \")\n",
    "    print(\"\\r\")    \n",
    "\n",
    "\n"
   ]
  },
  {
   "cell_type": "code",
   "execution_count": null,
   "id": "881124ba",
   "metadata": {},
   "outputs": [],
   "source": [
    "# q2.compraction opraction. \n",
    "l = [2,3,4,5,6]\n",
    "for i in l:\n",
    "    print(i+2)"
   ]
  },
  {
   "cell_type": "code",
   "execution_count": null,
   "id": "96dc0149",
   "metadata": {},
   "outputs": [],
   "source": [
    "\n",
    "l = [2,3,4,5,6]\n",
    "\n",
    "\n",
    "while (i <= 0):\n",
    "    l.append(i)\n",
    "print(l)\n",
    "    \n",
    "    "
   ]
  },
  {
   "cell_type": "code",
   "execution_count": null,
   "id": "5abe8a02",
   "metadata": {},
   "outputs": [],
   "source": [
    "# q3. count no of later in a string."
   ]
  },
  {
   "cell_type": "code",
   "execution_count": null,
   "id": "cc1361fc",
   "metadata": {},
   "outputs": [],
   "source": [
    "s = \" This is my first python program \"\n",
    "len(s)"
   ]
  },
  {
   "cell_type": "code",
   "execution_count": null,
   "id": "4877d5ad",
   "metadata": {},
   "outputs": [],
   "source": [
    "\n",
    "count = 0\n",
    "for i in s:\n",
    "    count = count +1\n",
    "print(count)\n",
    "   "
   ]
  },
  {
   "cell_type": "code",
   "execution_count": null,
   "id": "0cf5eca9",
   "metadata": {},
   "outputs": [],
   "source": [
    "count = 0\n",
    "for i in s:\n",
    "    count += 1\n",
    "print(count)\n",
    "   "
   ]
  },
  {
   "cell_type": "code",
   "execution_count": null,
   "id": "9cb61004",
   "metadata": {},
   "outputs": [],
   "source": [
    "# q4.reverse order using while loop \n",
    "\n",
    "s = \" This is my first python program \"\n",
    "\n",
    "for i in range(len(s)-1,-1,-1):\n",
    "    print(s[i])"
   ]
  },
  {
   "cell_type": "code",
   "execution_count": null,
   "id": "c0ee1b80",
   "metadata": {},
   "outputs": [],
   "source": [
    "i = len(s) - 1\n",
    "while (i >= 1):\n",
    "    print(s[i] ,end = \"\")\n",
    "    i = i - 1"
   ]
  },
  {
   "cell_type": "code",
   "execution_count": null,
   "id": "5104642f",
   "metadata": {},
   "outputs": [],
   "source": [
    "# q5.vowal or not vowal. \n",
    "\n",
    "s =\" ineuron\"\n",
    "\n",
    "v =\"AaEeOoUu\"\n",
    "\n",
    "for i in s:\n",
    "    if i in v:\n",
    "        print(\"vowal\",i)\n",
    "    else:    \n",
    "        print(\"not vowal\",i)    "
   ]
  },
  {
   "cell_type": "code",
   "execution_count": null,
   "id": "d9292985",
   "metadata": {},
   "outputs": [],
   "source": [
    "# q6.palidrome or not palidrome in string.\n",
    "\n",
    "s = \"eye\"\n",
    "v = s[::-1]\n",
    "\n",
    "if s == v:\n",
    "    print(\"palidrome\",s)\n",
    "else:\n",
    "    print(\"not palidrome\",s)\n",
    "    "
   ]
  },
  {
   "cell_type": "code",
   "execution_count": null,
   "id": "9cb1d652",
   "metadata": {},
   "outputs": [],
   "source": [
    "s = input()\n",
    "v = s[::-1]\n",
    "\n",
    "if s == v:\n",
    "    print(\"palidrome\",s)\n",
    "else:\n",
    "    print(\"not palidrome\",s)\n",
    "    "
   ]
  },
  {
   "cell_type": "code",
   "execution_count": null,
   "id": "38c6e207",
   "metadata": {},
   "outputs": [],
   "source": [
    "s=\"mom\"\n",
    "s1=s[::-1]\n",
    "\n",
    "if i in s1:\n",
    "    print(\"palidrome\",s)\n",
    "else:    \n",
    "    print(\"not palidrome\",s)"
   ]
  },
  {
   "cell_type": "code",
   "execution_count": null,
   "id": "619bac8e",
   "metadata": {},
   "outputs": [],
   "source": [
    "n = \"eye\"\n",
    "\n",
    "for i in range(len(n)):\n",
    "    if n[i] == n[len(n)-1-i]:\n",
    "        print(\"palidrome\",n)\n",
    "        break\n",
    "    else:\n",
    "        print(\"not palidrome\",n)"
   ]
  },
  {
   "cell_type": "code",
   "execution_count": null,
   "id": "6c46c331",
   "metadata": {},
   "outputs": [],
   "source": [
    "n = input()\n",
    "\n",
    "\n",
    "for i in range(len(n)):\n",
    "    if n[i] != n[len(n)-i-1]:\n",
    "        print(\"not palidrome\",n)\n",
    "        break\n",
    "else: \n",
    "     print(\"palidrome\",n)"
   ]
  },
  {
   "cell_type": "code",
   "execution_count": null,
   "id": "9edbcf3a",
   "metadata": {},
   "outputs": [],
   "source": [
    "s1 = input()\n",
    "f = \"\"\n",
    "\n",
    "n = len(s1) - 1\n",
    "while(n >= 0):\n",
    "    f = f + s1[n]\n",
    "    n= n-1\n",
    "if (s1==f):\n",
    "    print(\"palidrom\",s1)\n",
    "else:\n",
    "    print(\"palidrom\",s1)\n",
    "    "
   ]
  },
  {
   "cell_type": "code",
   "execution_count": null,
   "id": "18e0840a",
   "metadata": {},
   "outputs": [],
   "source": [
    "d = {\"india\":\"IN\",\n",
    "     \"canada\":\"CA\",\n",
    "     \"china\":\"CH\",\n",
    "     \"united state\":\"US\"}\n",
    "\n",
    "for i in d:\n",
    "    print(i)"
   ]
  },
  {
   "cell_type": "code",
   "execution_count": null,
   "id": "142c9a9e",
   "metadata": {},
   "outputs": [],
   "source": [
    "d = {\"india\":\"IN\",\n",
    "     \"canada\":\"CA\",\n",
    "     \"china\":\"CH\",\n",
    "     \"united state\":\"US\"}\n",
    "for i in d.values():\n",
    "    print(i)"
   ]
  },
  {
   "cell_type": "code",
   "execution_count": null,
   "id": "97a3a4ff",
   "metadata": {},
   "outputs": [],
   "source": [
    "\"india\" in d"
   ]
  },
  {
   "cell_type": "code",
   "execution_count": null,
   "id": "20dffc8d",
   "metadata": {},
   "outputs": [],
   "source": [
    "# wrt  a program to give two list  withwer key smaller and key grater \n",
    "d = {\"india\":\"IN\",\n",
    "     \"canada\":\"CA\",\n",
    "     \"china\":\"CH\",\n",
    "     \"united state\":\"US\"}\n",
    "\n",
    "l_smaller = []\n",
    "l_grater = []\n",
    "\n",
    "for i in d:\n",
    "    if (len(i) <= 5):\n",
    "        print(\"l_smaller\",i)\n",
    "    else:\n",
    "        print(\"l_grater\",i)"
   ]
  },
  {
   "cell_type": "code",
   "execution_count": null,
   "id": "fb17f296",
   "metadata": {},
   "outputs": [],
   "source": [
    "d = {\"india\":\"IN\",\n",
    "     \"canada\":\"CA\",\n",
    "     \"china\":\"CH\",\n",
    "     \"united state\":\"US\"}\n",
    "\n",
    "l_smaller = []\n",
    "l_grater = []\n",
    "\n",
    "for i in d:\n",
    "    if (len(i) <= 5):\n",
    "        l_smaller.append(i)\n",
    "    else:\n",
    "        l_grater.append(i)"
   ]
  },
  {
   "cell_type": "code",
   "execution_count": null,
   "id": "ad89a0ec",
   "metadata": {},
   "outputs": [],
   "source": [
    "l_smaller"
   ]
  },
  {
   "cell_type": "code",
   "execution_count": null,
   "id": "84c30a0e",
   "metadata": {},
   "outputs": [],
   "source": [
    "l_grater"
   ]
  },
  {
   "cell_type": "code",
   "execution_count": null,
   "id": "328f165d",
   "metadata": {},
   "outputs": [],
   "source": [
    "# find out the max  value\n",
    "\n",
    "d= {\"ineuron\" : {\n",
    "                     \"a\":10,\n",
    "                     \"b\":4,\n",
    "                     \"c\":14\n",
    "                    }  ,\n",
    "        \"course\":{\n",
    "                    \"d\":45,\n",
    "                    \"e\":34,\n",
    "                    \"f\":1\n",
    "          \n",
    "                  }\n",
    "}\n",
    "for i in d:\n",
    "    print(d[i].values())"
   ]
  },
  {
   "cell_type": "code",
   "execution_count": null,
   "id": "f2255bf4",
   "metadata": {},
   "outputs": [],
   "source": [
    "d= {\"ineuron\" : {\n",
    "                     \"a\":10,\n",
    "                     \"b\":4,\n",
    "                     \"c\":14\n",
    "                    }  ,\n",
    "        \"course\":{\n",
    "                    \"d\":45,\n",
    "                    \"e\":34,\n",
    "                    \"f\":1\n",
    "          \n",
    "                  }\n",
    "}\n",
    "\n",
    "list = []\n",
    "for i in d.values():\n",
    "    for j in i.values():\n",
    "        list.append(j)\n",
    "    print(max(list))"
   ]
  },
  {
   "cell_type": "code",
   "execution_count": null,
   "id": "710eff7d",
   "metadata": {},
   "outputs": [],
   "source": [
    "for i in d.values():\n",
    "    max = 0\n",
    "    for j in i.values():\n",
    "        if max<j:\n",
    "            max=j\n",
    "    print(max)   "
   ]
  },
  {
   "cell_type": "code",
   "execution_count": null,
   "id": "10747c2e",
   "metadata": {},
   "outputs": [],
   "source": [
    "for i in d.values():\n",
    "    print(i)"
   ]
  },
  {
   "cell_type": "code",
   "execution_count": null,
   "id": "b5de711d",
   "metadata": {},
   "outputs": [],
   "source": [
    "d= {\"ineuron\" : {\"a\":10,\"b\":4,\"c\":14}  ,\n",
    "    \"course\":{\"d\":45,\"e\":34,\"f\":1}}"
   ]
  },
  {
   "cell_type": "code",
   "execution_count": null,
   "id": "144d7426",
   "metadata": {},
   "outputs": [],
   "source": [
    "for i in d:\n",
    "    print(d[i].values())"
   ]
  },
  {
   "cell_type": "code",
   "execution_count": null,
   "id": "269e4ab2",
   "metadata": {},
   "outputs": [],
   "source": [
    "for i in d:\n",
    "    print(i)"
   ]
  },
  {
   "cell_type": "code",
   "execution_count": null,
   "id": "6e9008aa",
   "metadata": {},
   "outputs": [],
   "source": [
    "for i in d.values():\n",
    "    print(i)\n",
    "    "
   ]
  },
  {
   "cell_type": "code",
   "execution_count": null,
   "id": "f758a2b9",
   "metadata": {},
   "outputs": [],
   "source": [
    "#d.values()\n",
    "for i in d:\n",
    "    print(d[i])"
   ]
  },
  {
   "cell_type": "code",
   "execution_count": null,
   "id": "ca0dc273",
   "metadata": {},
   "outputs": [],
   "source": [
    "d= {\"ineuron\" : {\"a\":10,\"b\":4,\"c\":14}  ,\n",
    "    \"course\":{\"d\":45,\"e\":34,\"f\":1}}\n",
    "\n",
    "for i in d.values():\n",
    "    print(max(i.values()))"
   ]
  },
  {
   "cell_type": "code",
   "execution_count": null,
   "id": "8aa1eb90",
   "metadata": {},
   "outputs": [],
   "source": [
    "for i in d.keys():\n",
    "    print(max(d[i].values()))"
   ]
  },
  {
   "cell_type": "code",
   "execution_count": null,
   "id": "a6895369",
   "metadata": {},
   "outputs": [],
   "source": [
    "d= {\"ineuron\" : {\"a\":10,\"b\":4,\"c\":14}  ,\n",
    "    \"course\":{\"d\":45,\"e\":34,\"f\":1}}\n",
    "for i in d.values():\n",
    "    \n",
    "    mx=0\n",
    "    for j in i.values():\n",
    "        if mx<j:\n",
    "            mx=j\n",
    "    print(mx)       \n",
    "        "
   ]
  },
  {
   "cell_type": "code",
   "execution_count": null,
   "id": "e597eb13",
   "metadata": {},
   "outputs": [],
   "source": [
    "r = []\n",
    "for i in d.values():\n",
    "    r.append(max(i.values()))\n",
    "    print(max(r))"
   ]
  },
  {
   "cell_type": "code",
   "execution_count": null,
   "id": "646298b0",
   "metadata": {},
   "outputs": [],
   "source": [
    "d= {\"ineuron\" : {\"a\":10,\"b\":4,\"c\":14}  ,\n",
    "    \"course\":{\"d\":45,\"e\":34,\"f\":1},\"g\":345,\n",
    "    \"h\":[45,4,5,6,7,8,9],\"i\":[45,45,6],\"k\":\"sudh\"}"
   ]
  },
  {
   "cell_type": "code",
   "execution_count": null,
   "id": "94a57073",
   "metadata": {},
   "outputs": [],
   "source": [
    "l1 = []\n",
    "for i in d.values():\n",
    "    if type(i) == dict:\n",
    "        l1.append(max(i.values()))\n",
    "print(max(l1))        "
   ]
  },
  {
   "cell_type": "code",
   "execution_count": null,
   "id": "6527d654",
   "metadata": {},
   "outputs": [],
   "source": [
    "l1 = []\n",
    "\n",
    "for i in d.values():\n",
    "    if type(i) == dict:\n",
    "        l1.append(max(i.values()))\n",
    "    elif type(i) == list:\n",
    "        l1.append(max(i))\n",
    "    elif type(i) == tuple:\n",
    "        l1.append(max(i))\n",
    "    elif type(i) == str:\n",
    "        pass\n",
    "    else:\n",
    "        l1.append(i)\n",
    "print(max(l1))        "
   ]
  },
  {
   "cell_type": "code",
   "execution_count": null,
   "id": "c4fca05e",
   "metadata": {},
   "outputs": [],
   "source": [
    "d1= {\"ineuron\" : {\"a\":10,\"b\":4,\"c\":14}  ,\n",
    "    \"course\":{\"d\":45,\"e\":34,\"f\":1},\"g\":345,\n",
    "    \"h\":[45,4,5,6,7,8,9],\"i\":[45,45,6],\"k\":\"sudh\"}\n",
    "\n",
    "l1 = []\n",
    "\n",
    "for i in d1.values():\n",
    "    if type(i) == dict:\n",
    "        l1.append(i)\n",
    "    elif type(i) == list or type(i) == tuple:\n",
    "        l1.extend(i)\n",
    "    elif type(i) == str:\n",
    "        for j in i.values():\n",
    "            l1.append(j)\n",
    "print(max(l1))          \n",
    "        "
   ]
  },
  {
   "cell_type": "code",
   "execution_count": null,
   "id": "99f0ffc3",
   "metadata": {},
   "outputs": [],
   "source": [
    "for j in i.values():\n",
    "            l1.append(j)"
   ]
  },
  {
   "cell_type": "code",
   "execution_count": null,
   "id": "e004f164",
   "metadata": {},
   "outputs": [],
   "source": [
    "q1. nested opraction. \n",
    "q2.compraction opraction. \n",
    "q3. count no of later in a string.\n",
    "q4.reverse order using while loop \n",
    "q5.vowal or not vowal. \n",
    "q6.palidrome or not palidrome in string."
   ]
  },
  {
   "cell_type": "code",
   "execution_count": null,
   "id": "3f1e6e99",
   "metadata": {},
   "outputs": [],
   "source": [
    "# q1. nested opraction. \n",
    "\n",
    "for i in range(0,n):\n",
    "    for i in range(0 , i+1):\n",
    "        print(\" * \",end = \"\")\n",
    "    print(\"\\r\")    "
   ]
  },
  {
   "cell_type": "code",
   "execution_count": null,
   "id": "53f9d251",
   "metadata": {},
   "outputs": [],
   "source": [
    "# q2.compraction opraction. \n",
    "l = [3,4,5,6]\n",
    "for i in l:\n",
    "    print(i+2)\n",
    "    "
   ]
  },
  {
   "cell_type": "code",
   "execution_count": null,
   "id": "2cc37004",
   "metadata": {},
   "outputs": [],
   "source": [
    "# q3. count no of later in a string.\n",
    "\n",
    "s = \"This is my first python program\"\n",
    "len(s)"
   ]
  },
  {
   "cell_type": "code",
   "execution_count": null,
   "id": "dfb03265",
   "metadata": {},
   "outputs": [],
   "source": [
    "count = 0\n",
    "for i in s:\n",
    "    count = count + 1\n",
    "print(count)"
   ]
  },
  {
   "cell_type": "code",
   "execution_count": null,
   "id": "f35dad6d",
   "metadata": {},
   "outputs": [],
   "source": [
    "count = 0\n",
    "for i in s:\n",
    "    count += 1\n",
    "print(count)"
   ]
  },
  {
   "cell_type": "code",
   "execution_count": null,
   "id": "c95440f8",
   "metadata": {},
   "outputs": [],
   "source": [
    "# q4.reverse order using while loop \n",
    "\n",
    "s = \" This is my first python class\"\n",
    "\n",
    "i = len(s) - 1\n",
    "while( i >= 0):\n",
    "    print(s[i],end = \"\")\n",
    "    i = i-1"
   ]
  },
  {
   "cell_type": "code",
   "execution_count": null,
   "id": "57fc9d58",
   "metadata": {},
   "outputs": [],
   "source": [
    "for i in range(len(s)-1,-1,-1):\n",
    "    print(s[i])"
   ]
  },
  {
   "cell_type": "code",
   "execution_count": null,
   "id": "d74b579f",
   "metadata": {},
   "outputs": [],
   "source": [
    "# q5.vowal or not vowal.\n",
    "\n",
    "s = \"ineuron\"\n",
    "\n",
    "v = \"AaEeIiOoUu\"\n",
    "\n",
    "for i in s:\n",
    "    if i in v:\n",
    "        print(\"vowal\",i)\n",
    "    else:    \n",
    "        print(\"not vowal\",i)    \n",
    "        "
   ]
  },
  {
   "cell_type": "code",
   "execution_count": null,
   "id": "a288cee6",
   "metadata": {},
   "outputs": [],
   "source": [
    "# q6.palidrome or not palidrome in string.\n",
    "\n",
    "s = input()\n",
    "\n",
    "v = s[::-1]\n",
    "\n",
    "if s in v:\n",
    "    print(\"palidrome\",s)\n",
    "else:\n",
    "    print(\"not palidrome\",s)\n",
    "    \n",
    "    "
   ]
  },
  {
   "cell_type": "code",
   "execution_count": null,
   "id": "8b307c64",
   "metadata": {},
   "outputs": [],
   "source": [
    "s = \"mom\"\n",
    "\n",
    "s1 = s[::-1]\n",
    "\n",
    "if s == s1:\n",
    "    print(\"palidrome\",s)\n",
    "else:\n",
    "    print(\"not palidrome\",s)\n",
    "    "
   ]
  },
  {
   "cell_type": "code",
   "execution_count": null,
   "id": "586875a6",
   "metadata": {},
   "outputs": [],
   "source": [
    "# 7.wrt  a program to give two list  withwer key smaller and key grater \n",
    "d = {\"india\":\"IN\",\n",
    "     \"canada\":\"CA\",\n",
    "     \"china\":\"CH\",\n",
    "     \"united state\":\"US\"}\n",
    "\n",
    "#8. find out the max  value\n",
    "\n",
    "d= {\"ineuron\" : {\n",
    "                     \"a\":10,\n",
    "                     \"b\":4,\n",
    "                     \"c\":14\n",
    "                    }  ,\n",
    "        \"course\":{\n",
    "                    \"d\":45,\n",
    "                    \"e\":34,\n",
    "                    \"f\":1\n",
    "          \n",
    "                  }\n",
    "}\n",
    "\n",
    "#9.find out max value.\n",
    "\n",
    "d= {\"ineuron\" : {\"a\":10,\"b\":4,\"c\":14}  ,\n",
    "    \"course\":{\"d\":45,\"e\":34,\"f\":1},\"g\":345,\n",
    "    \"h\":[45,4,5,6,7,8,9],\"i\":[45,45,6],\"k\":\"sudh\"}"
   ]
  },
  {
   "cell_type": "code",
   "execution_count": null,
   "id": "93875f06",
   "metadata": {},
   "outputs": [],
   "source": [
    "# 7.wrt a program to give two list  withwer key smaller and key grater \n",
    "d = {\"india\":\"IN\",\n",
    "     \"canada\":\"CA\",\n",
    "     \"china\":\"CH\",\n",
    "     \"united state\":\"US\"}\n",
    "\n",
    "\"india\" in d\n"
   ]
  },
  {
   "cell_type": "code",
   "execution_count": null,
   "id": "1d0f8ad6",
   "metadata": {},
   "outputs": [],
   "source": [
    "d = {\"india\":\"IN\",\n",
    "     \"canada\":\"CA\",\n",
    "     \"china\":\"CH\",\n",
    "     \"united state\":\"US\"}\n",
    "for i in d:\n",
    "    if (len(i) <= 5):\n",
    "        print(\"l_smaller\",i)\n",
    "    else:\n",
    "        print(\"l_grater\",i)\n",
    "    "
   ]
  },
  {
   "cell_type": "code",
   "execution_count": null,
   "id": "a8c949ce",
   "metadata": {},
   "outputs": [],
   "source": [
    "for i in d:\n",
    "    if (len(i) <= 5):\n",
    "        l_smaller.append(i)\n",
    "    else:\n",
    "        l_grater.append(i)\n",
    "    "
   ]
  },
  {
   "cell_type": "code",
   "execution_count": null,
   "id": "10efaa85",
   "metadata": {},
   "outputs": [],
   "source": [
    "l_smaller"
   ]
  },
  {
   "cell_type": "code",
   "execution_count": null,
   "id": "e7b9a5a0",
   "metadata": {},
   "outputs": [],
   "source": [
    " l_grater"
   ]
  },
  {
   "cell_type": "code",
   "execution_count": null,
   "id": "7fab38b6",
   "metadata": {},
   "outputs": [],
   "source": [
    "#8.find out max value.\n",
    "\n",
    "d= {\"ineuron\" : {\"a\":10,\"b\":4,\"c\":14}  ,\n",
    "    \"course\":{\"d\":45,\"e\":34,\"f\":1}}\n",
    "\n",
    "for i in d:\n",
    "    print(i)"
   ]
  },
  {
   "cell_type": "code",
   "execution_count": null,
   "id": "7c1d85c9",
   "metadata": {},
   "outputs": [],
   "source": [
    "for i in d:\n",
    "    print(d[i])"
   ]
  },
  {
   "cell_type": "code",
   "execution_count": null,
   "id": "ebc7153e",
   "metadata": {},
   "outputs": [],
   "source": [
    "# 8. find out max values\n",
    "d= {\"ineuron\" : {\"a\":10,\"b\":4,\"c\":14}  ,\n",
    "    \"course\":{\"d\":45,\"e\":34,\"f\":1}}\n",
    "\n",
    "for i in d.values():\n",
    "    print(max(i.values()))"
   ]
  },
  {
   "cell_type": "code",
   "execution_count": null,
   "id": "60c21610",
   "metadata": {},
   "outputs": [],
   "source": [
    "d= {\"ineuron\" : {\"a\":10,\"b\":4,\"c\":14}  ,\n",
    "    \"course\":{\"d\":45,\"e\":34,\"f\":1}}\n",
    "\n",
    "for i in d.values():\n",
    "    mx = 0\n",
    "    for j in i.values():\n",
    "        if mx < j:\n",
    "            mx=j\n",
    "    print(mx)\n",
    "            "
   ]
  },
  {
   "cell_type": "code",
   "execution_count": null,
   "id": "26243b49",
   "metadata": {},
   "outputs": [],
   "source": [
    "for i in d.keys():\n",
    "    print(max(d[i].values()))"
   ]
  },
  {
   "cell_type": "code",
   "execution_count": null,
   "id": "79aaf3d6",
   "metadata": {},
   "outputs": [],
   "source": [
    "for  i in d:\n",
    "    print(max(d[i].values()))"
   ]
  },
  {
   "cell_type": "code",
   "execution_count": null,
   "id": "ad37fe84",
   "metadata": {},
   "outputs": [],
   "source": [
    "#9.find out max value.\n",
    "\n",
    "d= {\"ineuron\" : {\"a\":10,\"b\":4,\"c\":14}  ,\n",
    "    \"course\":{\"d\":45,\"e\":34,\"f\":1},\"g\":345,\n",
    "    \"h\":[45,4,5,6,7,8,9],\"i\":[45,45,6],\"k\":\"sudh\"}\n",
    "\n",
    "for i in d:\n",
    "    print(i)"
   ]
  },
  {
   "cell_type": "code",
   "execution_count": null,
   "id": "7ba186c9",
   "metadata": {},
   "outputs": [],
   "source": [
    "d = {\"ineuron\" : {\"a\":10,\"b\":4,\"c\":14}  ,\n",
    "    \"course\":{\"d\":45,\"e\":34,\"f\":1},\"g\":345,\n",
    "    \"h\":[45,4,5,6,7,8,9],\"i\":[45,45,6],\"k\":\"sudh\"}\n",
    "\n",
    "list = []\n",
    "for i in d.values():\n",
    "    for j in i.values():\n",
    "        list.append(j)\n",
    "    print(max(list))\n",
    "        \n",
    "      "
   ]
  },
  {
   "cell_type": "code",
   "execution_count": null,
   "id": "7e827d4c",
   "metadata": {},
   "outputs": [],
   "source": [
    "d = {\"ineuron\" : {\"a\":10,\"b\":4,\"c\":14}  ,\n",
    "    \"course\":{\"d\":45,\"e\":34,\"f\":1},\"g\":345,\n",
    "    \"h\":[45,4,5,6,7,8,9],\"i\":[45,45,6],\"k\":\"sudh\"}\n",
    "\n",
    "l = []\n",
    "\n",
    "for i in d.values():\n",
    "    if type(i) == dict:\n",
    "        l.append(max(i.values()))\n",
    "    elif type(i) == list:\n",
    "        l.append(max(i))    \n",
    "    elif type(i) == tuple:\n",
    "         l.append(max(i))\n",
    "    elif type(i) == str:\n",
    "        pass\n",
    "    else:\n",
    "        l.append(i)          \n",
    "                 \n",
    "print(max(l))"
   ]
  },
  {
   "cell_type": "code",
   "execution_count": 5,
   "id": "5121826d",
   "metadata": {},
   "outputs": [
    {
     "ename": "TypeError",
     "evalue": "'>' not supported between instances of 'dict' and 'dict'",
     "output_type": "error",
     "traceback": [
      "\u001b[1;31m---------------------------------------------------------------------------\u001b[0m",
      "\u001b[1;31mTypeError\u001b[0m                                 Traceback (most recent call last)",
      "Cell \u001b[1;32mIn[5], line 17\u001b[0m\n\u001b[0;32m     14\u001b[0m         \u001b[38;5;28;01mfor\u001b[39;00m j \u001b[38;5;129;01min\u001b[39;00m i\u001b[38;5;241m.\u001b[39mvalues():\n\u001b[0;32m     15\u001b[0m             l1\u001b[38;5;241m.\u001b[39mappend(i)\n\u001b[1;32m---> 17\u001b[0m \u001b[38;5;28mprint\u001b[39m(\u001b[38;5;28;43mmax\u001b[39;49m\u001b[43m(\u001b[49m\u001b[43ml1\u001b[49m\u001b[43m)\u001b[49m)\n",
      "\u001b[1;31mTypeError\u001b[0m: '>' not supported between instances of 'dict' and 'dict'"
     ]
    }
   ],
   "source": [
    "d = {\"ineuron\" : {\"a\":10,\"b\":4,\"c\":14}  ,\n",
    "    \"course\":{\"d\":45,\"e\":34,\"f\":1},\"g\":345,\n",
    "    \"h\":[45,4,5,6,7,8,9],\"i\":[45,45,6],\"k\":\"sudh\"}\n",
    "\n",
    "\n",
    "l1=[]\n",
    "\n",
    "for i in d.values():\n",
    "    if type(i) == str:\n",
    "        l1.append(i)\n",
    "    elif type(i) == tuple or type(i) == list:\n",
    "        l1.extend(list(i))\n",
    "    elif type(i) == dict:\n",
    "        for j in i.values():\n",
    "            l1.append(i)\n",
    "    \n",
    "print(max(l1))        \n",
    "    "
   ]
  },
  {
   "cell_type": "code",
   "execution_count": 6,
   "id": "737487f3",
   "metadata": {},
   "outputs": [
    {
     "data": {
      "text/plain": [
       "[{'a': 10, 'b': 4, 'c': 14},\n",
       " {'a': 10, 'b': 4, 'c': 14},\n",
       " {'a': 10, 'b': 4, 'c': 14},\n",
       " {'d': 45, 'e': 34, 'f': 1},\n",
       " {'d': 45, 'e': 34, 'f': 1},\n",
       " {'d': 45, 'e': 34, 'f': 1},\n",
       " 45,\n",
       " 4,\n",
       " 5,\n",
       " 6,\n",
       " 7,\n",
       " 8,\n",
       " 9,\n",
       " 45,\n",
       " 45,\n",
       " 6,\n",
       " 'sudh']"
      ]
     },
     "execution_count": 6,
     "metadata": {},
     "output_type": "execute_result"
    }
   ],
   "source": [
    "l1"
   ]
  },
  {
   "cell_type": "code",
   "execution_count": 3,
   "id": "486862a6",
   "metadata": {},
   "outputs": [
    {
     "name": "stdout",
     "output_type": "stream",
     "text": [
      "45\n"
     ]
    }
   ],
   "source": [
    "d = {\"ineuron\" : {\"a\":10,\"b\":4,\"c\":14}  ,\n",
    "    \"course\":{\"d\":45,\"e\":34,\"f\":1},\"g\":345,\n",
    "    \"h\":[45,4,5,6,7,8,9],\"i\":[45,45,6],\"k\":\"sudh\"}\n",
    "\n",
    "l = []\n",
    "for i in d.values():\n",
    "    if type(i) != str and type(i) != complex:\n",
    "        if type(i) == list and type(i) == tuple and type(i) == set :\n",
    "            l.extend(list(i))\n",
    "        elif type(i) == dict :\n",
    "            for j in i.values():\n",
    "                l.append(j)\n",
    "                \n",
    "print(max(l))                \n",
    "            \n",
    "    "
   ]
  },
  {
   "cell_type": "code",
   "execution_count": null,
   "id": "3745f921",
   "metadata": {},
   "outputs": [],
   "source": []
  },
  {
   "cell_type": "code",
   "execution_count": null,
   "id": "4ccfa976",
   "metadata": {},
   "outputs": [],
   "source": []
  },
  {
   "cell_type": "code",
   "execution_count": null,
   "id": "d185125f",
   "metadata": {},
   "outputs": [],
   "source": []
  }
 ],
 "metadata": {
  "kernelspec": {
   "display_name": "Python 3 (ipykernel)",
   "language": "python",
   "name": "python3"
  },
  "language_info": {
   "codemirror_mode": {
    "name": "ipython",
    "version": 3
   },
   "file_extension": ".py",
   "mimetype": "text/x-python",
   "name": "python",
   "nbconvert_exporter": "python",
   "pygments_lexer": "ipython3",
   "version": "3.10.9"
  }
 },
 "nbformat": 4,
 "nbformat_minor": 5
}
