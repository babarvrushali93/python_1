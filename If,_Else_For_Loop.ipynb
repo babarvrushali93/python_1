{
  "nbformat": 4,
  "nbformat_minor": 0,
  "metadata": {
    "colab": {
      "provenance": []
    },
    "kernelspec": {
      "name": "python3",
      "display_name": "Python 3"
    },
    "language_info": {
      "name": "python"
    }
  },
  "cells": [
    {
      "cell_type": "code",
      "execution_count": null,
      "metadata": {
        "id": "cc2Xx82UZhV2"
      },
      "outputs": [],
      "source": [
        "# data type(collection of the  data set)\n",
        "list ,tuple , set , dict"
      ]
    },
    {
      "cell_type": "code",
      "source": [
        "# if_else\n",
        "# conditon"
      ],
      "metadata": {
        "id": "wyY3DHA6a7Bz"
      },
      "execution_count": null,
      "outputs": []
    },
    {
      "cell_type": "markdown",
      "source": [
        "# if else statements (control flow statement) => if"
      ],
      "metadata": {
        "id": "hdA0XQPkbugk"
      }
    },
    {
      "cell_type": "code",
      "source": [
        "- python think without any {} using all opraction"
      ],
      "metadata": {
        "id": "5xymjvfbcxiL"
      },
      "execution_count": null,
      "outputs": []
    },
    {
      "cell_type": "code",
      "source": [
        "a = 10"
      ],
      "metadata": {
        "id": "Nl0iOKKYb1IB"
      },
      "execution_count": null,
      "outputs": []
    },
    {
      "cell_type": "code",
      "source": [
        "if a < 15:\n",
        "    pass    (reserver keyworld  = pass ,else)"
      ],
      "metadata": {
        "id": "DtZ_84IScZL-"
      },
      "execution_count": null,
      "outputs": []
    },
    {
      "cell_type": "code",
      "source": [
        "a < 15"
      ],
      "metadata": {
        "colab": {
          "base_uri": "https://localhost:8080/"
        },
        "id": "iNw4NN_4cZPJ",
        "outputId": "cef1ac45-10c4-4276-d8ca-09613abf2f8f"
      },
      "execution_count": null,
      "outputs": [
        {
          "output_type": "execute_result",
          "data": {
            "text/plain": [
              "True"
            ]
          },
          "metadata": {},
          "execution_count": 3
        }
      ]
    },
    {
      "cell_type": "code",
      "source": [
        "if a<15:\n",
        "  print(\"my name is sudh\")"
      ],
      "metadata": {
        "colab": {
          "base_uri": "https://localhost:8080/"
        },
        "id": "wQdW9-81cZR3",
        "outputId": "65b0cab6-281c-44b5-c3bb-03db735cf44d"
      },
      "execution_count": null,
      "outputs": [
        {
          "output_type": "stream",
          "name": "stdout",
          "text": [
            "my name is sudh\n"
          ]
        }
      ]
    },
    {
      "cell_type": "code",
      "source": [
        "if 24 < 15:\n",
        "  print(\"my name is sudh\")"
      ],
      "metadata": {
        "id": "f2QvGEXjcZUj"
      },
      "execution_count": null,
      "outputs": []
    },
    {
      "cell_type": "code",
      "source": [
        "24 < 15"
      ],
      "metadata": {
        "colab": {
          "base_uri": "https://localhost:8080/"
        },
        "id": "w23zEU1Penan",
        "outputId": "67f8db70-629c-48ee-e74f-10a99f9425f3"
      },
      "execution_count": null,
      "outputs": [
        {
          "output_type": "execute_result",
          "data": {
            "text/plain": [
              "False"
            ]
          },
          "metadata": {},
          "execution_count": 8
        }
      ]
    },
    {
      "cell_type": "code",
      "source": [
        "if 10 > 5 :   # conter statements\n",
        "  print(\"10 is lesser the 3\")\n",
        "else:\n",
        "  print(\"if statement is wrong\")\n",
        "\n",
        "                                          # IndentationError: mange and metain not indetections.   = code will be readable\n",
        "                                          # metain the indection then code will readeble  python support .\n"
      ],
      "metadata": {
        "colab": {
          "base_uri": "https://localhost:8080/"
        },
        "id": "i-cDupLGe7W8",
        "outputId": "8723e29e-f00e-45a2-ef49-3dd98825ba90"
      },
      "execution_count": null,
      "outputs": [
        {
          "output_type": "stream",
          "name": "stdout",
          "text": [
            "10 is lesser the 3\n"
          ]
        }
      ]
    },
    {
      "cell_type": "code",
      "source": [
        "income =int(input())\n",
        "if income < 50:\n",
        "  print(\"i will be able to buy phone\")\n",
        "elif income < 70:\n",
        "  print(\"i  will be able to buy car\")\n",
        "elif income < 90:\n",
        "  print(\"i will be able rent a house\")\n",
        "else:\n",
        "  print(\"i wont be able to buy anything\")\n",
        "\n"
      ],
      "metadata": {
        "colab": {
          "base_uri": "https://localhost:8080/"
        },
        "id": "B6zbzHq7e7hJ",
        "outputId": "dd4f25d0-f666-4871-ff52-02c6bf2a6a08"
      },
      "execution_count": null,
      "outputs": [
        {
          "output_type": "stream",
          "name": "stdout",
          "text": [
            "10\n",
            "i will be able to buy phone\n"
          ]
        }
      ]
    },
    {
      "cell_type": "code",
      "source": [
        "income =int(input())\n",
        "\n",
        "if income < 50:\n",
        "  print(\"i will be able to buy phone\")\n",
        "elif income < 70:\n",
        "  print(\"i will be able to buy car\")\n",
        "elif income < 90:\n",
        "  print(\"i will be able to rent a house\")\n",
        "else:\n",
        "  print(\"i wont be able to buy anything\")\n"
      ],
      "metadata": {
        "colab": {
          "base_uri": "https://localhost:8080/"
        },
        "id": "SsF5cynfFuB8",
        "outputId": "0fd91aef-5970-48dd-fd91-2ec5e0b7b904"
      },
      "execution_count": null,
      "outputs": [
        {
          "output_type": "stream",
          "name": "stdout",
          "text": [
            "80\n",
            "i will be able to rent a house\n"
          ]
        }
      ]
    },
    {
      "cell_type": "code",
      "source": [
        "Total_price = int(input())\n",
        "if Total_price > 20000:\n",
        "  discount = Total_price * .20\n",
        "  print(\"Discount will be \",discount)\n",
        "elif Total_price <= 7000:\n",
        "   discount = Total_price * .05\n",
        "   print(\"Discount will be \",discount)\n",
        "else:\n",
        "  print(\"wont be able to give any discount\")"
      ],
      "metadata": {
        "colab": {
          "base_uri": "https://localhost:8080/"
        },
        "id": "XnaHWbDTiLUr",
        "outputId": "a9e622ac-5f88-45d9-c7f4-33e9b78451e8"
      },
      "execution_count": null,
      "outputs": [
        {
          "output_type": "stream",
          "name": "stdout",
          "text": [
            "234\n",
            "Discount will be  11.700000000000001\n"
          ]
        }
      ]
    },
    {
      "cell_type": "code",
      "source": [
        "Total_price =int(input())\n",
        "\n",
        "if Total_price  > 30000:\n",
        "  discount =  Total_price * .20\n",
        "  print(\"Discount will be \", discount)\n",
        "elif Total_price <= 8000:\n",
        "  discount = Total_price * .05\n",
        "  print(\"Discount will be \", discount)\n",
        "else:\n",
        "  print(\"wnot bre able to give any  discount\")\n",
        "\n",
        "\n"
      ],
      "metadata": {
        "colab": {
          "base_uri": "https://localhost:8080/"
        },
        "id": "WjEelWqye7j7",
        "outputId": "a5a0d55d-d18a-4e4a-930d-6c71a0120a40"
      },
      "execution_count": null,
      "outputs": [
        {
          "output_type": "stream",
          "name": "stdout",
          "text": [
            "50000\n",
            "Discount will be  10000.0\n"
          ]
        }
      ]
    },
    {
      "cell_type": "code",
      "source": [
        "\n",
        "coup = \"SUDHANSHUS\"\n",
        "if coup == \"SUDHANSHUS\":\n",
        "  print(\"you will be able to get a discount of 5% \")\n",
        "  paid_amount = 7080 -7080*.05\n",
        "  print(\"you will be able to get one neuron with this amount\",paid_amount)\n",
        "else:\n",
        "  print(\"kindly use a vaild coupoun code \")"
      ],
      "metadata": {
        "colab": {
          "base_uri": "https://localhost:8080/"
        },
        "id": "8E0l2h4te7m_",
        "outputId": "143bf46c-7bf3-4a05-ecf6-150fed7df1b4"
      },
      "execution_count": null,
      "outputs": [
        {
          "output_type": "stream",
          "name": "stdout",
          "text": [
            "you will be able to get a discount of 5% \n",
            "you will be able to get one neuron with this amount 6726.0\n"
          ]
        }
      ]
    },
    {
      "cell_type": "code",
      "source": [
        "\n",
        "\"sudh\" == \"sudh\""
      ],
      "metadata": {
        "colab": {
          "base_uri": "https://localhost:8080/"
        },
        "id": "RHzZIIDte7qd",
        "outputId": "f29b36e8-d8b1-4686-8516-a0b49067489c"
      },
      "execution_count": null,
      "outputs": [
        {
          "output_type": "execute_result",
          "data": {
            "text/plain": [
              "True"
            ]
          },
          "metadata": {},
          "execution_count": 24
        }
      ]
    },
    {
      "cell_type": "code",
      "source": [
        "coup = input()\n",
        "\n",
        "if coup == \"sudhanshus\":\n",
        "  print(\" you will be able to get a discount of 5%\")\n",
        "  paid_amount = 7080 - 7080 * .05\n",
        "  print(\"you will be able to get one neuron with this amount\", paid_amount)\n",
        "else:\n",
        "  print(\"kindly use a vaild coupoun code\")\n"
      ],
      "metadata": {
        "colab": {
          "base_uri": "https://localhost:8080/"
        },
        "id": "evWTeFiue7uD",
        "outputId": "bd011cf2-991f-4050-b98c-0acbfe287ad1"
      },
      "execution_count": null,
      "outputs": [
        {
          "output_type": "stream",
          "name": "stdout",
          "text": [
            "sudhanshus\n",
            " you will be able to get a discount of 5%\n",
            "you will be able to get one neuron with this amount 6726.0\n"
          ]
        }
      ]
    },
    {
      "cell_type": "code",
      "source": [
        "coup = input()\n",
        "\n",
        "if coup == \"sudhanshus\":\n",
        "  print(\" you will be able to get a discount of 5%\")\n",
        "  paid_amount = 7080 - 7080 * .05\n",
        "  print(\"you will be able to get one neuron with this amount\", paid_amount)\n",
        "else:\n",
        "  print(\"kindly use a vaild coupoun code\")\n"
      ],
      "metadata": {
        "colab": {
          "base_uri": "https://localhost:8080/"
        },
        "id": "vr3f5Fl9tpKV",
        "outputId": "729d28e5-53d1-4871-ae88-75bbf9f728a0"
      },
      "execution_count": null,
      "outputs": [
        {
          "output_type": "stream",
          "name": "stdout",
          "text": [
            "kjdlshhn\n",
            "kindly use a vaild coupoun code\n"
          ]
        }
      ]
    },
    {
      "cell_type": "code",
      "source": [
        "# plane my study_hour <1,<4 & >1,>10\n",
        "study_hour = int(input())\n",
        "\n",
        "if study_hour < 1:     # 2 < 1  false statements\n",
        "  print(\"it may be 8-9 month of the to make a transition\")\n",
        "elif study_hour < 4 and study_hour >1 :       # 2<4 & 2>1 (true statements)\n",
        "  print(\"it may be 6 month time for transition \")\n",
        "elif study_hour >10:\n",
        "    print(\"it my be 3 month time for transition\")\n",
        "else:\n",
        "  print(\"it will be difficult\")"
      ],
      "metadata": {
        "colab": {
          "base_uri": "https://localhost:8080/"
        },
        "id": "YnEb8VaXtpQP",
        "outputId": "a54b19f2-ca90-4e1e-c9b0-8e7bc6407720"
      },
      "execution_count": null,
      "outputs": [
        {
          "output_type": "stream",
          "name": "stdout",
          "text": [
            "2\n",
            "it may be 6 month time for transition \n"
          ]
        }
      ]
    },
    {
      "cell_type": "code",
      "source": [
        "if elif else"
      ],
      "metadata": {
        "id": "aw-9_GUX6G5d"
      },
      "execution_count": null,
      "outputs": []
    },
    {
      "cell_type": "code",
      "source": [
        "study_hour =float(input())\n",
        "\n",
        "if study_hour < 1 and study_hour > 0.5:\n",
        "  print(\"it may be success\")\n",
        "elif study_hour < 6 and study_hour > 1:\n",
        "  print(\"success\")\n",
        "else:\n",
        "  print(\" fails\")"
      ],
      "metadata": {
        "colab": {
          "base_uri": "https://localhost:8080/"
        },
        "id": "I4M9LXOutpS2",
        "outputId": "d48f4ff2-021b-4af8-f84a-cdfce576e3f8"
      },
      "execution_count": null,
      "outputs": [
        {
          "output_type": "stream",
          "name": "stdout",
          "text": [
            "4.5\n",
            "success\n"
          ]
        }
      ]
    },
    {
      "cell_type": "code",
      "source": [
        "a = 9\n",
        "if a==9:\n",
        "  print(\"vaild\")"
      ],
      "metadata": {
        "colab": {
          "base_uri": "https://localhost:8080/"
        },
        "id": "zuZ6kADhtpVy",
        "outputId": "f0bf7aeb-fb1b-4db9-c208-7a92cff10ebb"
      },
      "execution_count": null,
      "outputs": [
        {
          "output_type": "stream",
          "name": "stdout",
          "text": [
            "vaild\n"
          ]
        }
      ]
    },
    {
      "cell_type": "code",
      "source": [
        "s = input()\n",
        "if s == \"oneneuron\":\n",
        "  if course == \"DSA\":\n",
        "     print(\"yes its available under one neuron  and in multiple mode for job prepration and core concept\")\n",
        "  elif course == \"Blockchain\":\n",
        "     print(\"this is not aviable as of \")\n"
      ],
      "metadata": {
        "id": "95ilJe_JtpZQ"
      },
      "execution_count": null,
      "outputs": []
    },
    {
      "cell_type": "code",
      "source": [
        "s = input(\"enter a string to start \")\n",
        "course = input(\"enter a course name \")\n",
        "service = input(\"enter a service name \")\n",
        "if s == \"oneneuron\":\n",
        "    if course == \"DSA\":\n",
        "        print(\"yes its available under one neruon and in multiple mode for job prepratoin and core concept \")\n",
        "    elif course == \"Blockchain\":\n",
        "        print(\"this is not aviable as of now , kindly raise your demand and we will fulfil in 60 days \")\n",
        "    elif course == \"FSDS\":\n",
        "        print(\"yes its availble , youi can start learning \")\n",
        "    else :\n",
        "        print(\"this course is not availble kindly raise your demand \")\n",
        "elif s  == \"oneneuronservice\":\n",
        "    if service == \"courserequest\":\n",
        "        print(\"*NOTE: Dear Learner, you can raise demand related to any new course, and we will fulfil your need in the next 60 days.\")\n",
        "    elif service == \"module\" :\n",
        "        print(\"*NOTE: Dear Learner, you can raise demand related to any new course module, and we will fulfil your need in the next 30 days.\")\n",
        "    elif service == \"doubt\":\n",
        "        print(\"*NOTE: Dear Learner, you can raise demand related to any doubt clearing, and we will fulfil your need in the next 24 hours.\")\n",
        "    elif service == \"workwithus\":\n",
        "        print(\"*NOTE: Dear Learner, you can raise the demand to work with our team; our HR will evaluate and get back to you in 24 hours.\")\n",
        "    else :\n",
        "        print(\"kindly provide us your feedback and we will fulfil\")\n",
        "else :\n",
        "    print(\"kindly connect with our team \")"
      ],
      "metadata": {
        "colab": {
          "base_uri": "https://localhost:8080/"
        },
        "id": "v_VJa-LB8QCg",
        "outputId": "e2679d7a-62cd-414d-aa7f-4c4c0eeefdd4"
      },
      "execution_count": null,
      "outputs": [
        {
          "output_type": "stream",
          "name": "stdout",
          "text": [
            "enter a string to start oneneuron\n",
            "enter a course name DSA\n",
            "enter a service name module\n",
            "yes its available under one neruon and in multiple mode for job prepratoin and core concept \n"
          ]
        }
      ]
    },
    {
      "cell_type": "code",
      "source": [
        "\n",
        "a = 10 (assignment operator)\n",
        "\n",
        "a == 10 (comparative oprector)"
      ],
      "metadata": {
        "id": "OH33gbkaAtXv"
      },
      "execution_count": null,
      "outputs": []
    },
    {
      "cell_type": "code",
      "source": [
        "# for loop  statements\n",
        "    #0 1 2 3 4 5 6\n",
        "l = [1,2,3,4,5,6,7]\n",
        "\n",
        "for i in l:\n",
        "  print(i)"
      ],
      "metadata": {
        "colab": {
          "base_uri": "https://localhost:8080/"
        },
        "id": "rmmPtBQnGD3D",
        "outputId": "88202904-6917-4139-ad30-730333c9bb94"
      },
      "execution_count": null,
      "outputs": [
        {
          "output_type": "stream",
          "name": "stdout",
          "text": [
            "1\n",
            "2\n",
            "3\n",
            "4\n",
            "5\n",
            "6\n",
            "7\n"
          ]
        }
      ]
    },
    {
      "cell_type": "code",
      "source": [
        "s =\"sudh\"\n",
        "for i in s:\n",
        "  print(i)"
      ],
      "metadata": {
        "colab": {
          "base_uri": "https://localhost:8080/"
        },
        "id": "C_qTqNuAHQKX",
        "outputId": "28fe2d1a-a679-49d8-bdc4-bd419f063e04"
      },
      "execution_count": null,
      "outputs": [
        {
          "output_type": "stream",
          "name": "stdout",
          "text": [
            "s\n",
            "u\n",
            "d\n",
            "h\n"
          ]
        }
      ]
    },
    {
      "cell_type": "code",
      "source": [
        "t = (1,2,3,4,5)\n",
        "for i in t:\n",
        "  print(i)"
      ],
      "metadata": {
        "colab": {
          "base_uri": "https://localhost:8080/"
        },
        "id": "ZmEObO2tHQNt",
        "outputId": "7e8333a5-7052-49b0-8c29-40cde0a9b969"
      },
      "execution_count": null,
      "outputs": [
        {
          "output_type": "stream",
          "name": "stdout",
          "text": [
            "1\n",
            "2\n",
            "3\n",
            "4\n",
            "5\n"
          ]
        }
      ]
    },
    {
      "cell_type": "code",
      "source": [
        "# list ,tuple, string =  using for loop"
      ],
      "metadata": {
        "id": "LIEjyVYPIOUn"
      },
      "execution_count": null,
      "outputs": []
    },
    {
      "cell_type": "code",
      "source": [
        "l = [1,4,5.6,4+7j,\"sudh\"]  # data type = int,float,complex,string\n",
        "\n",
        "for i in l:\n",
        "  print(i)"
      ],
      "metadata": {
        "colab": {
          "base_uri": "https://localhost:8080/"
        },
        "id": "JfwIO3RwIaqJ",
        "outputId": "f19ede4d-6be8-4ee3-82b8-9181a22dba6d"
      },
      "execution_count": null,
      "outputs": [
        {
          "output_type": "stream",
          "name": "stdout",
          "text": [
            "1\n",
            "4\n",
            "5.6\n",
            "(4+7j)\n",
            "sudh\n"
          ]
        }
      ]
    },
    {
      "cell_type": "code",
      "source": [
        "for i in l:\n",
        "   print(type(i), \"type of\",i)"
      ],
      "metadata": {
        "colab": {
          "base_uri": "https://localhost:8080/"
        },
        "id": "fUvGyPsFIatj",
        "outputId": "0a19c521-dc57-4039-eb8c-22508c86cb87"
      },
      "execution_count": null,
      "outputs": [
        {
          "output_type": "stream",
          "name": "stdout",
          "text": [
            "<class 'int'> type of 1\n",
            "<class 'int'> type of 4\n",
            "<class 'float'> type of 5.6\n",
            "<class 'complex'> type of (4+7j)\n",
            "<class 'str'> type of sudh\n"
          ]
        }
      ]
    },
    {
      "cell_type": "code",
      "source": [
        "l = [1,4,5.6]\n",
        "\n",
        "for i in l:\n",
        "  print(i+2)\n"
      ],
      "metadata": {
        "colab": {
          "base_uri": "https://localhost:8080/"
        },
        "id": "H3d3MYl3J5aQ",
        "outputId": "3fc55d23-b4db-4aa9-8e10-965aca15f5e9"
      },
      "execution_count": null,
      "outputs": [
        {
          "output_type": "stream",
          "name": "stdout",
          "text": [
            "3\n",
            "6\n",
            "7.6\n"
          ]
        }
      ]
    },
    {
      "cell_type": "code",
      "source": [
        "l =[1,4,5.6]\n",
        "l1 =[]\n",
        "for i in l:\n",
        "  l1.append(i+2)\n"
      ],
      "metadata": {
        "id": "4gtgHX9tLDf3"
      },
      "execution_count": null,
      "outputs": []
    },
    {
      "cell_type": "code",
      "source": [
        "l1"
      ],
      "metadata": {
        "colab": {
          "base_uri": "https://localhost:8080/"
        },
        "id": "NtFOfdqFLVHT",
        "outputId": "88ec62f8-431b-4cb1-caff-3f90582ea1a2"
      },
      "execution_count": null,
      "outputs": [
        {
          "output_type": "execute_result",
          "data": {
            "text/plain": [
              "[3, 6, 7.6]"
            ]
          },
          "metadata": {},
          "execution_count": 53
        }
      ]
    },
    {
      "cell_type": "code",
      "source": [
        "l= [2,45,78,12,\"sudh\",6+7j,[56,67,78]]\n",
        "l1 = []\n",
        "for j in l:\n",
        "      if type(j) == int:\n",
        "        l1.append(j)\n",
        "\n",
        "l1"
      ],
      "metadata": {
        "colab": {
          "base_uri": "https://localhost:8080/"
        },
        "id": "Mi4xzQr-OCAw",
        "outputId": "c9241a70-d8e9-4b3e-ebf0-3bb9d6ab351e"
      },
      "execution_count": null,
      "outputs": [
        {
          "output_type": "execute_result",
          "data": {
            "text/plain": [
              "[2, 45, 78, 12]"
            ]
          },
          "metadata": {},
          "execution_count": 61
        }
      ]
    },
    {
      "cell_type": "code",
      "source": [
        "\n",
        "l= [2,45,78,12,\"sudh\",6+7j,[56,67,78]]\n",
        "\n",
        "l1 = []\n",
        "for i in l:\n",
        "  if type(i) == list:\n",
        "    for j in l:\n",
        "      if type(j) == int:\n",
        "        l1.append(j)\n"
      ],
      "metadata": {
        "id": "iYP2J7YELerG"
      },
      "execution_count": null,
      "outputs": []
    },
    {
      "cell_type": "code",
      "source": [
        "l1"
      ],
      "metadata": {
        "colab": {
          "base_uri": "https://localhost:8080/"
        },
        "id": "8v0akvDVLetx",
        "outputId": "eb684c15-489d-4175-c727-e90a4b56df0d"
      },
      "execution_count": null,
      "outputs": [
        {
          "output_type": "execute_result",
          "data": {
            "text/plain": [
              "[2, 45, 78, 12]"
            ]
          },
          "metadata": {},
          "execution_count": 57
        }
      ]
    },
    {
      "cell_type": "code",
      "source": [
        "l= [2,45,78,12,\"sudh\",6+7j,[56,67,78]]\n",
        "\n",
        "for i in l:\n",
        "  if type(i) == int:\n",
        "    print(i)"
      ],
      "metadata": {
        "colab": {
          "base_uri": "https://localhost:8080/"
        },
        "id": "cM160jMMLew5",
        "outputId": "9ee5d50f-d1a5-4881-b503-712c609dee46"
      },
      "execution_count": null,
      "outputs": [
        {
          "output_type": "stream",
          "name": "stdout",
          "text": [
            "2\n",
            "45\n",
            "78\n",
            "12\n"
          ]
        }
      ]
    },
    {
      "cell_type": "code",
      "source": [
        "l= [2,45,78,12,\"sudh\",6+7j,[56,67,78]]\n",
        "\n",
        "for i in l:\n",
        "  if type(i) == list:\n",
        "    print(i)"
      ],
      "metadata": {
        "colab": {
          "base_uri": "https://localhost:8080/"
        },
        "id": "KwW6kJdeLez0",
        "outputId": "7f58e6c2-bedb-4d88-f9c7-972e90abdcc9"
      },
      "execution_count": null,
      "outputs": [
        {
          "output_type": "stream",
          "name": "stdout",
          "text": [
            "[56, 67, 78]\n"
          ]
        }
      ]
    },
    {
      "cell_type": "code",
      "source": [
        "l= [2,45,78,12,\"sudh\",6+7j,[56,67,78]]\n",
        "\n",
        "for i in l:\n",
        "  if type(i) == int:\n",
        "    print(i)\n",
        "  elif type(i) == list:\n",
        "    for j in i:\n",
        "        print(j)\n"
      ],
      "metadata": {
        "colab": {
          "base_uri": "https://localhost:8080/"
        },
        "id": "J1gmZNyTOiQI",
        "outputId": "c9334163-d3b6-4100-e8ba-9ecfd8fe6cd0"
      },
      "execution_count": null,
      "outputs": [
        {
          "output_type": "stream",
          "name": "stdout",
          "text": [
            "2\n",
            "45\n",
            "78\n",
            "12\n",
            "56\n",
            "67\n",
            "78\n"
          ]
        }
      ]
    },
    {
      "cell_type": "code",
      "source": [
        "l= [2,45,78,12,\"sudh\",6+7j,[56,67,78,\"jkdfls\"]]\n",
        "\n",
        "# 1. try  to print index all the elements\n",
        "l1=[]\n",
        "for i in l:\n",
        "   if type(i) == int :\n",
        "    l1.append(i+2)\n",
        "\n",
        "\n",
        "\n"
      ],
      "metadata": {
        "id": "JgKbAUx4OiWW"
      },
      "execution_count": null,
      "outputs": []
    },
    {
      "cell_type": "code",
      "source": [
        "l1"
      ],
      "metadata": {
        "colab": {
          "base_uri": "https://localhost:8080/"
        },
        "id": "mVnMaYY7OiZA",
        "outputId": "6f1b4539-8aaf-4543-b7b8-13f027546841"
      },
      "execution_count": null,
      "outputs": [
        {
          "output_type": "execute_result",
          "data": {
            "text/plain": [
              "[4, 47, 80, 14]"
            ]
          },
          "metadata": {},
          "execution_count": 78
        }
      ]
    },
    {
      "cell_type": "code",
      "source": [
        "l= [2,45,78,12,12,12,12,\"sudh\",6+7j,[56,67,78,\"jkdfls\"]]\n",
        "len(l)"
      ],
      "metadata": {
        "colab": {
          "base_uri": "https://localhost:8080/"
        },
        "id": "Frj3WaVgVvL5",
        "outputId": "a7bfa1f4-af5f-4c84-a7ce-4602b8ff42cf"
      },
      "execution_count": null,
      "outputs": [
        {
          "output_type": "execute_result",
          "data": {
            "text/plain": [
              "10"
            ]
          },
          "metadata": {},
          "execution_count": 96
        }
      ]
    },
    {
      "cell_type": "code",
      "source": [
        "range(4)"
      ],
      "metadata": {
        "colab": {
          "base_uri": "https://localhost:8080/"
        },
        "id": "Ec1tLsYUWoLu",
        "outputId": "ea6cd5ef-8c2b-4cc4-e5b8-457023f376b8"
      },
      "execution_count": null,
      "outputs": [
        {
          "output_type": "execute_result",
          "data": {
            "text/plain": [
              "range(0, 4)"
            ]
          },
          "metadata": {},
          "execution_count": 100
        }
      ]
    },
    {
      "cell_type": "code",
      "source": [
        "l= [2,45,78,12,12,12,12,\"sudh\",6+7j,[56,67,78,\"jkdfls\"]]\n",
        "\n",
        "# 1. try  to print index all the elements  =(range() use)\n",
        "for i in range(len(l)):\n",
        "   print(\"index\",i,\"for an element\",l[i])\n"
      ],
      "metadata": {
        "colab": {
          "base_uri": "https://localhost:8080/"
        },
        "id": "DGCAnhIyOicP",
        "outputId": "bc19760e-5803-4da2-8947-f0aaf10ae04a"
      },
      "execution_count": null,
      "outputs": [
        {
          "output_type": "stream",
          "name": "stdout",
          "text": [
            "index 0 for an element 2\n",
            "index 1 for an element 45\n",
            "index 2 for an element 78\n",
            "index 3 for an element 12\n",
            "index 4 for an element 12\n",
            "index 5 for an element 12\n",
            "index 6 for an element 12\n",
            "index 7 for an element sudh\n",
            "index 8 for an element (6+7j)\n",
            "index 9 for an element [56, 67, 78, 'jkdfls']\n"
          ]
        }
      ]
    },
    {
      "cell_type": "code",
      "source": [
        "for i in range(len(l)):\n",
        "  print(i,l[i])"
      ],
      "metadata": {
        "colab": {
          "base_uri": "https://localhost:8080/"
        },
        "id": "r-cS-mRvXNXd",
        "outputId": "a28af944-7f36-4a65-8d48-0a4bccf3986f"
      },
      "execution_count": null,
      "outputs": [
        {
          "output_type": "stream",
          "name": "stdout",
          "text": [
            "0 2\n",
            "1 45\n",
            "2 78\n",
            "3 12\n",
            "4 12\n",
            "5 12\n",
            "6 12\n",
            "7 sudh\n",
            "8 (6+7j)\n",
            "9 [56, 67, 78, 'jkdfls']\n"
          ]
        }
      ]
    },
    {
      "cell_type": "code",
      "source": [
        "for i in enumerate(l):   # function = enumerate() always return tuple\n",
        "    print(i)\n",
        "                                    # they retrun element and index"
      ],
      "metadata": {
        "colab": {
          "base_uri": "https://localhost:8080/"
        },
        "id": "l2_y4ixaW2KJ",
        "outputId": "aea129bb-5bd9-4e0a-e8eb-3c316916961e"
      },
      "execution_count": null,
      "outputs": [
        {
          "output_type": "stream",
          "name": "stdout",
          "text": [
            "(0, 2)\n",
            "(1, 45)\n",
            "(2, 78)\n",
            "(3, 12)\n",
            "(4, 12)\n",
            "(5, 12)\n",
            "(6, 12)\n",
            "(7, 'sudh')\n",
            "(8, (6+7j))\n",
            "(9, [56, 67, 78, 'jkdfls'])\n"
          ]
        }
      ]
    },
    {
      "cell_type": "code",
      "source": [
        "for i,j in enumerate(l):\n",
        "  print(i,j)"
      ],
      "metadata": {
        "colab": {
          "base_uri": "https://localhost:8080/"
        },
        "id": "54CxxIlaX8V9",
        "outputId": "a6b0a4b7-e897-4293-b787-215adadfa453"
      },
      "execution_count": null,
      "outputs": [
        {
          "output_type": "stream",
          "name": "stdout",
          "text": [
            "0 2\n",
            "1 45\n",
            "2 78\n",
            "3 12\n",
            "4 12\n",
            "5 12\n",
            "6 12\n",
            "7 sudh\n",
            "8 (6+7j)\n",
            "9 [56, 67, 78, 'jkdfls']\n"
          ]
        }
      ]
    },
    {
      "cell_type": "code",
      "source": [
        "l[0]"
      ],
      "metadata": {
        "colab": {
          "base_uri": "https://localhost:8080/"
        },
        "id": "qGCY1z_gLe23",
        "outputId": "c71f6931-57dc-4a97-c058-37f5d1cc14bd"
      },
      "execution_count": null,
      "outputs": [
        {
          "output_type": "execute_result",
          "data": {
            "text/plain": [
              "2"
            ]
          },
          "metadata": {},
          "execution_count": 84
        }
      ]
    },
    {
      "cell_type": "code",
      "source": [
        "l= [2,45,78,12,\"sudh\",6+7j,[56,67,78,\"jkdfls\"]]\n",
        "for i in l:\n",
        "  if type(i) == list:\n",
        "    print(i)\n",
        "  elif type(j) == string:\n",
        "    print(j)\n"
      ],
      "metadata": {
        "colab": {
          "base_uri": "https://localhost:8080/",
          "height": 217
        },
        "id": "KhCUOQSVLe6Q",
        "outputId": "f5464de1-d255-43be-e884-c458b4b772de"
      },
      "execution_count": null,
      "outputs": [
        {
          "output_type": "error",
          "ename": "NameError",
          "evalue": "ignored",
          "traceback": [
            "\u001b[0;31m---------------------------------------------------------------------------\u001b[0m",
            "\u001b[0;31mNameError\u001b[0m                                 Traceback (most recent call last)",
            "\u001b[0;32m<ipython-input-89-67aa846f23d6>\u001b[0m in \u001b[0;36m<cell line: 2>\u001b[0;34m()\u001b[0m\n\u001b[1;32m      3\u001b[0m   \u001b[0;32mif\u001b[0m \u001b[0mtype\u001b[0m\u001b[0;34m(\u001b[0m\u001b[0mi\u001b[0m\u001b[0;34m)\u001b[0m \u001b[0;34m==\u001b[0m \u001b[0mlist\u001b[0m\u001b[0;34m:\u001b[0m\u001b[0;34m\u001b[0m\u001b[0;34m\u001b[0m\u001b[0m\n\u001b[1;32m      4\u001b[0m     \u001b[0mprint\u001b[0m\u001b[0;34m(\u001b[0m\u001b[0mi\u001b[0m\u001b[0;34m)\u001b[0m\u001b[0;34m\u001b[0m\u001b[0;34m\u001b[0m\u001b[0m\n\u001b[0;32m----> 5\u001b[0;31m   \u001b[0;32melif\u001b[0m \u001b[0mtype\u001b[0m\u001b[0;34m(\u001b[0m\u001b[0mj\u001b[0m\u001b[0;34m)\u001b[0m \u001b[0;34m==\u001b[0m \u001b[0mstring\u001b[0m\u001b[0;34m:\u001b[0m\u001b[0;34m\u001b[0m\u001b[0;34m\u001b[0m\u001b[0m\n\u001b[0m\u001b[1;32m      6\u001b[0m     \u001b[0mprint\u001b[0m\u001b[0;34m(\u001b[0m\u001b[0mj\u001b[0m\u001b[0;34m)\u001b[0m\u001b[0;34m\u001b[0m\u001b[0;34m\u001b[0m\u001b[0m\n",
            "\u001b[0;31mNameError\u001b[0m: name 'string' is not defined"
          ]
        }
      ]
    },
    {
      "cell_type": "code",
      "source": [
        "# append = return of the list\n",
        "# extend ="
      ],
      "metadata": {
        "id": "A3wAb2HWKsZU"
      },
      "execution_count": null,
      "outputs": []
    },
    {
      "cell_type": "code",
      "source": [
        "# for loop"
      ],
      "metadata": {
        "id": "7OPNWAN7wXae"
      },
      "execution_count": null,
      "outputs": []
    },
    {
      "cell_type": "code",
      "source": [
        "l = [1,2,3,4,5,6,7]\n",
        "\n",
        "for i in l:       # extrate a data one by one\n",
        "  print(i)"
      ],
      "metadata": {
        "colab": {
          "base_uri": "https://localhost:8080/"
        },
        "id": "-EEI_UZDwXda",
        "outputId": "a7c1a93a-4ca2-4364-fec7-c7c8cde33234"
      },
      "execution_count": null,
      "outputs": [
        {
          "output_type": "stream",
          "name": "stdout",
          "text": [
            "1\n",
            "2\n",
            "3\n",
            "4\n",
            "5\n",
            "6\n",
            "7\n"
          ]
        }
      ]
    },
    {
      "cell_type": "code",
      "source": [
        " # iter() and next()  function  use impletation"
      ],
      "metadata": {
        "id": "QkfL91lpwXgQ"
      },
      "execution_count": null,
      "outputs": []
    },
    {
      "cell_type": "code",
      "source": [
        "l = [1,2,3,4,5,6,7]\n",
        "next(l)           #list' object is not an iterator\n",
        "                  #list' object is an \"iterable\" convert to \"interator\""
      ],
      "metadata": {
        "colab": {
          "base_uri": "https://localhost:8080/",
          "height": 182
        },
        "id": "6P4ZcER0wXjn",
        "outputId": "facc84cc-7dac-4da5-81dc-ee2d4040c19c"
      },
      "execution_count": null,
      "outputs": [
        {
          "output_type": "error",
          "ename": "TypeError",
          "evalue": "ignored",
          "traceback": [
            "\u001b[0;31m---------------------------------------------------------------------------\u001b[0m",
            "\u001b[0;31mTypeError\u001b[0m                                 Traceback (most recent call last)",
            "\u001b[0;32m<ipython-input-2-eee10cb1e400>\u001b[0m in \u001b[0;36m<cell line: 2>\u001b[0;34m()\u001b[0m\n\u001b[1;32m      1\u001b[0m \u001b[0ml\u001b[0m \u001b[0;34m=\u001b[0m \u001b[0;34m[\u001b[0m\u001b[0;36m1\u001b[0m\u001b[0;34m,\u001b[0m\u001b[0;36m2\u001b[0m\u001b[0;34m,\u001b[0m\u001b[0;36m3\u001b[0m\u001b[0;34m,\u001b[0m\u001b[0;36m4\u001b[0m\u001b[0;34m,\u001b[0m\u001b[0;36m5\u001b[0m\u001b[0;34m,\u001b[0m\u001b[0;36m6\u001b[0m\u001b[0;34m,\u001b[0m\u001b[0;36m7\u001b[0m\u001b[0;34m]\u001b[0m\u001b[0;34m\u001b[0m\u001b[0;34m\u001b[0m\u001b[0m\n\u001b[0;32m----> 2\u001b[0;31m \u001b[0mnext\u001b[0m\u001b[0;34m(\u001b[0m\u001b[0ml\u001b[0m\u001b[0;34m)\u001b[0m\u001b[0;34m\u001b[0m\u001b[0;34m\u001b[0m\u001b[0m\n\u001b[0m",
            "\u001b[0;31mTypeError\u001b[0m: 'list' object is not an iterator"
          ]
        }
      ]
    },
    {
      "cell_type": "code",
      "source": [
        "l = iter(l)"
      ],
      "metadata": {
        "id": "5F1Rp2GSxqLO"
      },
      "execution_count": null,
      "outputs": []
    },
    {
      "cell_type": "code",
      "source": [
        "next(l)"
      ],
      "metadata": {
        "colab": {
          "base_uri": "https://localhost:8080/"
        },
        "id": "qhpdr_muxqOE",
        "outputId": "4137d150-e72f-46e7-aa89-4ac90ddd2866"
      },
      "execution_count": null,
      "outputs": [
        {
          "output_type": "execute_result",
          "data": {
            "text/plain": [
              "1"
            ]
          },
          "metadata": {},
          "execution_count": 4
        }
      ]
    },
    {
      "cell_type": "code",
      "source": [
        "s =\"sudh\"\n",
        "for i in s:\n",
        "  print(i)\n"
      ],
      "metadata": {
        "colab": {
          "base_uri": "https://localhost:8080/"
        },
        "id": "-kHvwyzlxqRf",
        "outputId": "f607d021-8a1e-4927-c0a2-d331b3906cf5"
      },
      "execution_count": null,
      "outputs": [
        {
          "output_type": "stream",
          "name": "stdout",
          "text": [
            "s\n",
            "u\n",
            "d\n",
            "h\n"
          ]
        }
      ]
    },
    {
      "cell_type": "code",
      "source": [
        "\n",
        "for i in \"sudh\" :\n",
        "  print(i)"
      ],
      "metadata": {
        "colab": {
          "base_uri": "https://localhost:8080/"
        },
        "id": "wEmdGgZ1zF6W",
        "outputId": "78bee091-6a80-467b-81fb-1180146d1f17"
      },
      "execution_count": null,
      "outputs": [
        {
          "output_type": "stream",
          "name": "stdout",
          "text": [
            "s\n",
            "u\n",
            "d\n",
            "h\n"
          ]
        }
      ]
    },
    {
      "cell_type": "code",
      "source": [
        " t = (1,2,3,4) # normal brack\n",
        "for i in t:\n",
        "  print(i)"
      ],
      "metadata": {
        "colab": {
          "base_uri": "https://localhost:8080/"
        },
        "id": "y1_u6gu8zXFA",
        "outputId": "e10236ef-5982-4009-b8f1-3dd83b4f05dd"
      },
      "execution_count": null,
      "outputs": [
        {
          "output_type": "stream",
          "name": "stdout",
          "text": [
            "1\n",
            "2\n",
            "3\n",
            "4\n"
          ]
        }
      ]
    },
    {
      "cell_type": "code",
      "source": [
        "l = [1 , 4 , 5.6 , 4+7j , \"sudh\"]\n"
      ],
      "metadata": {
        "id": "yL7OF61Nz3KR"
      },
      "execution_count": null,
      "outputs": []
    },
    {
      "cell_type": "code",
      "source": [
        "for i in l:\n",
        "  print(type(i), \"type of \",i)"
      ],
      "metadata": {
        "colab": {
          "base_uri": "https://localhost:8080/"
        },
        "id": "ENs91VGQz3RB",
        "outputId": "10021d33-657b-46e1-a0a3-7e5b7c99353f"
      },
      "execution_count": null,
      "outputs": [
        {
          "output_type": "stream",
          "name": "stdout",
          "text": [
            "<class 'int'> type of  1\n",
            "<class 'int'> type of  4\n",
            "<class 'float'> type of  5.6\n",
            "<class 'complex'> type of  (4+7j)\n",
            "<class 'str'> type of  sudh\n"
          ]
        }
      ]
    },
    {
      "cell_type": "code",
      "source": [
        "type(l)\n"
      ],
      "metadata": {
        "colab": {
          "base_uri": "https://localhost:8080/"
        },
        "id": "mALOV4Iwz3Uh",
        "outputId": "32d00127-2c28-4782-fba1-803935e33d78"
      },
      "execution_count": null,
      "outputs": [
        {
          "output_type": "execute_result",
          "data": {
            "text/plain": [
              "list"
            ]
          },
          "metadata": {},
          "execution_count": 17
        }
      ]
    },
    {
      "cell_type": "code",
      "source": [
        "# comprasition\n",
        "l = [1,4,5.6]\n",
        "l1 = []\n",
        "for i in l:\n",
        "  l1.append(i+2)\n"
      ],
      "metadata": {
        "id": "0iCQbX-g0y6R"
      },
      "execution_count": null,
      "outputs": []
    },
    {
      "cell_type": "code",
      "source": [
        "l1"
      ],
      "metadata": {
        "colab": {
          "base_uri": "https://localhost:8080/"
        },
        "id": "xtVfqwLr0y-f",
        "outputId": "f5dda676-5ec1-4eec-f7f6-1b276d77f1a8"
      },
      "execution_count": null,
      "outputs": [
        {
          "output_type": "execute_result",
          "data": {
            "text/plain": [
              "[3, 6, 7.6]"
            ]
          },
          "metadata": {},
          "execution_count": 20
        }
      ]
    },
    {
      "cell_type": "code",
      "source": [
        "l = [2,45,78,12,\"sudh\",6+7j,[56,67,78]]"
      ],
      "metadata": {
        "id": "LoUfurTA0zB-"
      },
      "execution_count": null,
      "outputs": []
    },
    {
      "cell_type": "code",
      "source": [
        "for i in l:\n",
        "  if type(i) == int:\n",
        "    print(i)\n",
        "  elif type(i) == list:\n",
        "    for j in i:\n",
        "      print(j)"
      ],
      "metadata": {
        "colab": {
          "base_uri": "https://localhost:8080/"
        },
        "id": "2zzq1viR0zFi",
        "outputId": "125b2e3e-e28f-4f2d-e6f1-8aedf27124c3"
      },
      "execution_count": null,
      "outputs": [
        {
          "output_type": "stream",
          "name": "stdout",
          "text": [
            "2\n",
            "45\n",
            "78\n",
            "12\n",
            "56\n",
            "67\n",
            "78\n"
          ]
        }
      ]
    },
    {
      "cell_type": "code",
      "source": [
        "Total_price = int(input())\n",
        "\n",
        "if Total_price > 20000:\n",
        "  discount = Total_price * .20\n",
        "  print(\"Discount will be\" , discount)\n",
        "elif Total_price <= 7000:\n",
        "  discount = Total_price * .05\n",
        "  print(\"Discount will be\" , discount)\n",
        "else:\n",
        "  print(\"wont be able to give any discount\")\n"
      ],
      "metadata": {
        "id": "De4dKPVjzXH5",
        "colab": {
          "base_uri": "https://localhost:8080/"
        },
        "outputId": "a58c49be-2dc0-4e46-bf69-e213a9fa28d9"
      },
      "execution_count": null,
      "outputs": [
        {
          "output_type": "stream",
          "name": "stdout",
          "text": [
            "700\n",
            "Discount will be 35.0\n"
          ]
        }
      ]
    },
    {
      "cell_type": "code",
      "source": [
        "\n",
        "coup = \"SUDHANSHUS\"\n",
        "if coup == \"SUDHANSHUS\":\n",
        "  print(\"you will ba able to get a discount of 5 %\")\n",
        "  paid_amount = 7080 - 7080 * .05\n",
        "  print(\"you will be able to get one neuron with this amount\",paid_amount)\n",
        "else:\n",
        "  print(\"kindly use a valid coupoun code\")\n",
        "\n"
      ],
      "metadata": {
        "id": "Q9oKeL4IzXKP",
        "colab": {
          "base_uri": "https://localhost:8080/"
        },
        "outputId": "6709e5c3-1a04-43aa-aec8-70c5eeffca55"
      },
      "execution_count": null,
      "outputs": [
        {
          "output_type": "stream",
          "name": "stdout",
          "text": [
            "you will ba able to get a discount of 5 %\n",
            "you will be able to get one neuron with this amount 6726.0\n"
          ]
        }
      ]
    },
    {
      "cell_type": "code",
      "source": [
        "coup = input()\n",
        "if coup == \"SUDHANSHUS\":\n",
        "  print(\"you will ba able to get a discount of 5 %\")\n",
        "  paid_amount = 7080 - 7080 * .05\n",
        "  print(\"you will be able to get one neuron with this amount\",paid_amount)\n",
        "else:\n",
        "  print(\"kindly use a valid coupoun code\")\n"
      ],
      "metadata": {
        "colab": {
          "base_uri": "https://localhost:8080/"
        },
        "id": "MIpPTC2nMIDk",
        "outputId": "2ce6a5dc-e64f-4dcc-a6d6-d84529501d48"
      },
      "execution_count": null,
      "outputs": [
        {
          "output_type": "stream",
          "name": "stdout",
          "text": [
            "jfgb\n",
            "kindly use a valid coupoun code\n"
          ]
        }
      ]
    },
    {
      "cell_type": "code",
      "source": [
        "coup =input()\n",
        "if coup == \"SUDHANSHUS\":\n",
        "  print(\"you will ba able to get a discount of 5 %\")\n",
        "  paid_amount = 7080 - 7080 * .05\n",
        "  print(\"you will be able to get one neuron with this amount\",paid_amount)\n",
        "else:\n",
        "  print(\"kindly use a valid coupoun code\")\n"
      ],
      "metadata": {
        "colab": {
          "base_uri": "https://localhost:8080/"
        },
        "id": "TEJl-tmcMSL2",
        "outputId": "e66e032b-0063-4374-9aba-9b80fb9592cc"
      },
      "execution_count": null,
      "outputs": [
        {
          "output_type": "stream",
          "name": "stdout",
          "text": [
            "SUDHANSHUS\n",
            "you will ba able to get a discount of 5 %\n",
            "you will be able to get one neuron with this amount 6726.0\n"
          ]
        }
      ]
    },
    {
      "cell_type": "code",
      "source": [
        "\"SUDH\" == \"SUDH\""
      ],
      "metadata": {
        "id": "Vec7MY3XzXM7",
        "colab": {
          "base_uri": "https://localhost:8080/"
        },
        "outputId": "e88c6b95-911b-4fa9-d96c-f5bd918a409f"
      },
      "execution_count": null,
      "outputs": [
        {
          "output_type": "execute_result",
          "data": {
            "text/plain": [
              "True"
            ]
          },
          "metadata": {},
          "execution_count": 7
        }
      ]
    },
    {
      "cell_type": "code",
      "source": [
        "study_hour = int(input())\n",
        "\n",
        "if study_hour < 1 :\n",
        "  print(\"it may take 8-9 month of time to make a Transition\")\n",
        "elif study_hour < 4 and study_hour >1:\n",
        "  print(\" it may take 6 month of time transition\")\n",
        "elif study_hour < 10:\n",
        "  print(\"it may take 3 month of time transition \")\n",
        "else:\n",
        "  print(\"it will be different\")\n",
        "\n",
        "\n"
      ],
      "metadata": {
        "id": "yBQZjmZmzXP8",
        "colab": {
          "base_uri": "https://localhost:8080/"
        },
        "outputId": "38b0ce0b-976b-4560-9e82-df46733674c8"
      },
      "execution_count": null,
      "outputs": [
        {
          "output_type": "stream",
          "name": "stdout",
          "text": [
            "2\n",
            " it may take 6 month of time transition\n"
          ]
        }
      ]
    },
    {
      "cell_type": "code",
      "source": [
        "study_hour = float(input())\n",
        "\n",
        "if study_hour < 1 and study_hour > 0.5:\n",
        "  print(\" it may be success \")\n",
        "elif study_hour < 4 and study_hour > 1:\n",
        "  print(\"success\")\n",
        "else:\n",
        "  print(\"fails..\")\n"
      ],
      "metadata": {
        "id": "344jyN8bzXSh",
        "colab": {
          "base_uri": "https://localhost:8080/"
        },
        "outputId": "f82d8408-3bfd-4cc2-bb70-bc05346e5c0c"
      },
      "execution_count": null,
      "outputs": [
        {
          "output_type": "stream",
          "name": "stdout",
          "text": [
            "3.4\n",
            "success\n"
          ]
        }
      ]
    },
    {
      "cell_type": "code",
      "source": [
        "a = 9\n",
        "if a == 9:\n",
        "  print(\"valid\")"
      ],
      "metadata": {
        "colab": {
          "base_uri": "https://localhost:8080/"
        },
        "id": "ieHH3nFwQu6Y",
        "outputId": "4b45d0bc-bd67-4628-e881-3d8676078f7c"
      },
      "execution_count": null,
      "outputs": [
        {
          "output_type": "stream",
          "name": "stdout",
          "text": [
            "valid\n"
          ]
        }
      ]
    },
    {
      "cell_type": "code",
      "source": [
        "\n",
        "s = input(\"enter a string to start\")\n",
        "course = input(\"enter a course name\")\n",
        "service = input(\"enter a course name\")\n",
        "\n",
        "# if s == oneneuron:\n",
        "         course == DSA\n",
        "         course == Blockchain\n",
        "         course == FSDS\n",
        "\n",
        "\n",
        "# elif s == oneneuronservice:\n",
        "          service == courserequest\n",
        "          service == module\n",
        "          service == doubt\n",
        "          service == workwithus\n",
        "\n",
        " # else :\n",
        "       print(\"kindly connect with our team\")\n"
      ],
      "metadata": {
        "id": "D8H0b_1cUO8_"
      },
      "execution_count": null,
      "outputs": []
    },
    {
      "cell_type": "code",
      "source": [
        "s = input(\"enter a string to start: \")\n",
        "course = input(\"enter a course name: \")\n",
        "service = input(\"enter a service name: \")\n",
        "\n",
        "if s == \"oneneuron\":\n",
        "        if course == \"DSA\" :\n",
        "          print(\"yes it available under one neuron i multiple code\")\n",
        "        elif course == \"Blockchain\":\n",
        "          print(\"raise ur demand\")\n",
        "        elif course == \"FSDS\":\n",
        "           print(\"yes it is avilable\")\n",
        "        else:\n",
        "          print(\"not avilable\")\n",
        "elif s == \"oneneuronservice\":\n",
        "        if service == \"courserequest\":\n",
        "            print(\"raise demand for new course\")\n",
        "        elif service == \"module\":\n",
        "          print(\"raise demand for module \")\n",
        "        elif   service == doubt:\n",
        "          print(\"note doubt clearing\")\n",
        "        else:\n",
        "          print(\"feedback\")\n",
        "\n",
        "else :\n",
        "       print(\"kindly connect with our team\")\n"
      ],
      "metadata": {
        "id": "XCHBK-c-WL8L",
        "colab": {
          "base_uri": "https://localhost:8080/"
        },
        "outputId": "f646f8d0-4470-42ad-fe11-374af086d753"
      },
      "execution_count": null,
      "outputs": [
        {
          "output_type": "stream",
          "name": "stdout",
          "text": [
            "enter a string to start: oneneuron\n",
            "enter a course name: FSDS\n",
            "enter a service name: module\n",
            "yes it is avilable\n"
          ]
        }
      ]
    },
    {
      "cell_type": "code",
      "source": [
        "# nested if statements..\n",
        "\n",
        "s = input(\"enter a string to start \")\n",
        "course = input(\"enter a course name \")\n",
        "service = input(\"enter a service name \")\n",
        "if s == \"oneneuron\":\n",
        "    if course == \"DSA\":\n",
        "        print(\"yes its available under one neruon and in multiple mode for job prepratoin and core concept \")\n",
        "    elif course == \"Blockchain\":\n",
        "        print(\"this is not aviable as of now , kindly raise your demand and we will fulfil in 60 days \")\n",
        "    elif course == \"FSDS\":\n",
        "        print(\"yes its availble , youi can start learning \")\n",
        "    else :\n",
        "        print(\"this course is not availble kindly raise your demand \")\n",
        "elif s  == \"oneneuronservice\":\n",
        "    if service == \"courserequest\":\n",
        "        print(\"*NOTE: Dear Learner, you can raise demand related to any new course, and we will fulfil your need in the next 60 days.\")\n",
        "    elif service == \"module\" :\n",
        "        print(\"*NOTE: Dear Learner, you can raise demand related to any new course module, and we will fulfil your need in the next 30 days.\")\n",
        "    elif service == \"doubt\":\n",
        "        print(\"*NOTE: Dear Learner, you can raise demand related to any doubt clearing, and we will fulfil your need in the next 24 hours.\")\n",
        "    elif service == \"workwithus\":\n",
        "        print(\"*NOTE: Dear Learner, you can raise the demand to work with our team; our HR will evaluate and get back to you in 24 hours.\")\n",
        "    else :\n",
        "        print(\"kindly provide us your feedback and we will fulfil\")\n",
        "else :\n",
        "    print(\"kindly connect with our team \")"
      ],
      "metadata": {
        "id": "UAb67dzszXVj",
        "colab": {
          "base_uri": "https://localhost:8080/"
        },
        "outputId": "dad4b469-e44a-40e4-a8a5-47270f5042db"
      },
      "execution_count": null,
      "outputs": [
        {
          "output_type": "stream",
          "name": "stdout",
          "text": [
            "enter a string to start oneneuron\n",
            "enter a course name DSA\n",
            "enter a service name doubt\n",
            "yes its available under one neruon and in multiple mode for job prepratoin and core concept \n"
          ]
        }
      ]
    },
    {
      "cell_type": "code",
      "source": [
        "if statement = (condition are true)"
      ],
      "metadata": {
        "id": "DDSHfzNbcxcD"
      },
      "execution_count": null,
      "outputs": []
    },
    {
      "cell_type": "code",
      "source": [
        "# while loop,for loop,nested while loop , break and continuos"
      ],
      "metadata": {
        "id": "9if-9dF_zXYq"
      },
      "execution_count": null,
      "outputs": []
    },
    {
      "cell_type": "code",
      "source": [
        "# for loop = one after anther    , i = local variable.. (for loop)\n",
        "#    0 1 2 3 4 5 6\n",
        "\n",
        "l = [1,2,3,4,5,6,7]   # simple for loop = \"extrate the elements one by one\"\n",
        "for i in l:                                 #ex . list , tuple ,string\n",
        "  print(i)\n"
      ],
      "metadata": {
        "colab": {
          "base_uri": "https://localhost:8080/"
        },
        "id": "4JFkifILa2yq",
        "outputId": "9678a84e-ab55-42bc-b688-256f6dafe9cb"
      },
      "execution_count": null,
      "outputs": [
        {
          "output_type": "stream",
          "name": "stdout",
          "text": [
            "1\n",
            "2\n",
            "3\n",
            "4\n",
            "5\n",
            "6\n",
            "7\n"
          ]
        }
      ]
    },
    {
      "cell_type": "code",
      "source": [
        "s = \"sudh\"\n",
        "for i in s:\n",
        "  print(i)"
      ],
      "metadata": {
        "colab": {
          "base_uri": "https://localhost:8080/"
        },
        "id": "k16vGa8Da22F",
        "outputId": "9c4a3f4f-e5ac-49de-9c13-baefbd24cf3d"
      },
      "execution_count": null,
      "outputs": [
        {
          "output_type": "stream",
          "name": "stdout",
          "text": [
            "s\n",
            "u\n",
            "d\n",
            "h\n"
          ]
        }
      ]
    },
    {
      "cell_type": "code",
      "source": [
        "for i in \"sudh\":\n",
        "  print(i)"
      ],
      "metadata": {
        "id": "nQN6qbKzzXcJ",
        "colab": {
          "base_uri": "https://localhost:8080/"
        },
        "outputId": "e58c43c5-f952-4410-92a2-b145a6f9034b"
      },
      "execution_count": null,
      "outputs": [
        {
          "output_type": "stream",
          "name": "stdout",
          "text": [
            "s\n",
            "u\n",
            "d\n",
            "h\n"
          ]
        }
      ]
    },
    {
      "cell_type": "code",
      "source": [
        "t = (1,2,3,4,5,6)\n",
        "\n",
        "for i in t:\n",
        "  print(i)"
      ],
      "metadata": {
        "id": "C2iV3EcazXe5",
        "colab": {
          "base_uri": "https://localhost:8080/"
        },
        "outputId": "83148fe6-1e46-48a9-c33b-89b3307c2edc"
      },
      "execution_count": null,
      "outputs": [
        {
          "output_type": "stream",
          "name": "stdout",
          "text": [
            "1\n",
            "2\n",
            "3\n",
            "4\n",
            "5\n",
            "6\n"
          ]
        }
      ]
    },
    {
      "cell_type": "code",
      "source": [
        "l = [1,4,5.6,4+7j,\"sudh\"]"
      ],
      "metadata": {
        "id": "q6w8Cq2qzXhz"
      },
      "execution_count": null,
      "outputs": []
    },
    {
      "cell_type": "code",
      "source": [
        "for i in l:\n",
        "  print(type(i))"
      ],
      "metadata": {
        "id": "Y_485KLQzXlU",
        "colab": {
          "base_uri": "https://localhost:8080/"
        },
        "outputId": "5d8b2c62-48f2-4956-bf6b-04ba4ea600ca"
      },
      "execution_count": null,
      "outputs": [
        {
          "output_type": "stream",
          "name": "stdout",
          "text": [
            "<class 'int'>\n",
            "<class 'int'>\n",
            "<class 'float'>\n",
            "<class 'complex'>\n",
            "<class 'str'>\n"
          ]
        }
      ]
    },
    {
      "cell_type": "code",
      "source": [
        "for i in l:\n",
        "  print(type(i) ,\"type of\", i )"
      ],
      "metadata": {
        "colab": {
          "base_uri": "https://localhost:8080/"
        },
        "id": "aGrxgvRRgoiR",
        "outputId": "f6a78bab-f1cd-4fe7-f1c1-77a844bb85b4"
      },
      "execution_count": null,
      "outputs": [
        {
          "output_type": "stream",
          "name": "stdout",
          "text": [
            "<class 'int'> type of 1\n",
            "<class 'int'> type of 4\n",
            "<class 'float'> type of 5.6\n",
            "<class 'complex'> type of (4+7j)\n",
            "<class 'str'> type of sudh\n"
          ]
        }
      ]
    },
    {
      "cell_type": "code",
      "source": [
        "type(1)"
      ],
      "metadata": {
        "colab": {
          "base_uri": "https://localhost:8080/"
        },
        "id": "SXVW-_BLhJwi",
        "outputId": "7e673f0c-0753-435d-a091-ab2ae875a84d"
      },
      "execution_count": null,
      "outputs": [
        {
          "output_type": "execute_result",
          "data": {
            "text/plain": [
              "int"
            ]
          },
          "metadata": {},
          "execution_count": 38
        }
      ]
    },
    {
      "cell_type": "code",
      "source": [
        "l"
      ],
      "metadata": {
        "colab": {
          "base_uri": "https://localhost:8080/"
        },
        "id": "JXVsjswHhJzO",
        "outputId": "a2c94a76-2c8f-428b-efd9-0d4460802bad"
      },
      "execution_count": null,
      "outputs": [
        {
          "output_type": "execute_result",
          "data": {
            "text/plain": [
              "[1, 4, 5.6, (4+7j), 'sudh']"
            ]
          },
          "metadata": {},
          "execution_count": 39
        }
      ]
    },
    {
      "cell_type": "code",
      "source": [
        "l =[1, 4, 5.6]\n",
        "l1 =[]\n",
        "for i in l:\n",
        "  l1.append(i+2)"
      ],
      "metadata": {
        "id": "k3Ztbb60hp35"
      },
      "execution_count": null,
      "outputs": []
    },
    {
      "cell_type": "code",
      "source": [
        "l1"
      ],
      "metadata": {
        "colab": {
          "base_uri": "https://localhost:8080/"
        },
        "id": "RJGm3HzbjJ_y",
        "outputId": "8e6653e7-17c6-4cb7-aa0a-2908d201532a"
      },
      "execution_count": null,
      "outputs": [
        {
          "output_type": "execute_result",
          "data": {
            "text/plain": [
              "[3, 6, 7.6]"
            ]
          },
          "metadata": {},
          "execution_count": 49
        }
      ]
    },
    {
      "cell_type": "code",
      "source": [
        "# append"
      ],
      "metadata": {
        "id": "P_x1JTgnjKCx"
      },
      "execution_count": null,
      "outputs": []
    },
    {
      "cell_type": "code",
      "source": [
        "l = [2,45,78,12,\"sudh\",6+7j,[56,67,78]]\n",
        "\n",
        "for i in l:\n",
        "  if type(i) == int:\n",
        "    print(i)\n",
        "  elif type(i) == list:\n",
        "    for j in i:\n",
        "      if type(j) == int:\n",
        "        print(j)"
      ],
      "metadata": {
        "colab": {
          "base_uri": "https://localhost:8080/"
        },
        "id": "ew2wIIS7jKF6",
        "outputId": "2d0991b7-33d1-45cc-aaf0-9954dab81a04"
      },
      "execution_count": null,
      "outputs": [
        {
          "output_type": "stream",
          "name": "stdout",
          "text": [
            "2\n",
            "45\n",
            "78\n",
            "12\n",
            "56\n",
            "67\n",
            "78\n"
          ]
        }
      ]
    },
    {
      "cell_type": "code",
      "source": [
        "l = [2,45,78,12,12,12,12,\"sudh\",6+7j,[56,67,78,\"jlha\"]]"
      ],
      "metadata": {
        "id": "vWZsM-Q7nty9"
      },
      "execution_count": null,
      "outputs": []
    },
    {
      "cell_type": "code",
      "source": [
        "len(l)"
      ],
      "metadata": {
        "colab": {
          "base_uri": "https://localhost:8080/"
        },
        "id": "X14u1B_foEmv",
        "outputId": "a4743e74-e024-4f14-856f-2b55c40ca0a6"
      },
      "execution_count": null,
      "outputs": [
        {
          "output_type": "execute_result",
          "data": {
            "text/plain": [
              "10"
            ]
          },
          "metadata": {},
          "execution_count": 65
        }
      ]
    },
    {
      "cell_type": "code",
      "source": [
        "range(len(l))"
      ],
      "metadata": {
        "colab": {
          "base_uri": "https://localhost:8080/"
        },
        "id": "NyjbuAXwnvn4",
        "outputId": "927d4597-4d14-4f59-f7b3-bc62d5467f21"
      },
      "execution_count": null,
      "outputs": [
        {
          "output_type": "execute_result",
          "data": {
            "text/plain": [
              "range(0, 10)"
            ]
          },
          "metadata": {},
          "execution_count": 62
        }
      ]
    },
    {
      "cell_type": "code",
      "source": [
        "l = [2,45,78,12,12,12,12,\"sudh\",6+7j,[56,67,78,\"jlha\"]]\n",
        " # q1.try to print index of all the elements  =>  ( enumerate )\n",
        "\n",
        "for i in enumerate(l):\n",
        "  print(i)\n"
      ],
      "metadata": {
        "colab": {
          "base_uri": "https://localhost:8080/"
        },
        "id": "VGE9uh6KlZXK",
        "outputId": "0a66d52c-db57-4bdc-fdf3-6b92847f1de6"
      },
      "execution_count": null,
      "outputs": [
        {
          "output_type": "stream",
          "name": "stdout",
          "text": [
            "(0, 2)\n",
            "(1, 45)\n",
            "(2, 78)\n",
            "(3, 12)\n",
            "(4, 12)\n",
            "(5, 12)\n",
            "(6, 12)\n",
            "(7, 'sudh')\n",
            "(8, (6+7j))\n",
            "(9, [56, 67, 78, 'jlha'])\n"
          ]
        }
      ]
    },
    {
      "cell_type": "code",
      "source": [
        "for i ,j in enumerate(l):\n",
        "  print(i,j)"
      ],
      "metadata": {
        "colab": {
          "base_uri": "https://localhost:8080/"
        },
        "id": "uCRcAproryWZ",
        "outputId": "8d0875e9-852e-4086-b296-b0bc4fc3014d"
      },
      "execution_count": null,
      "outputs": [
        {
          "output_type": "stream",
          "name": "stdout",
          "text": [
            "0 2\n",
            "1 45\n",
            "2 78\n",
            "3 12\n",
            "4 12\n",
            "5 12\n",
            "6 12\n",
            "7 sudh\n",
            "8 (6+7j)\n",
            "9 [56, 67, 78, 'jlha']\n"
          ]
        }
      ]
    },
    {
      "cell_type": "code",
      "source": [
        "# range(len(l)) = generate for you\n",
        "# enumerate(l)  = always return index as well as elements  (inbuilt function)"
      ],
      "metadata": {
        "id": "Id0sDcspqRt_"
      },
      "execution_count": null,
      "outputs": []
    },
    {
      "cell_type": "code",
      "source": [
        "range(4)"
      ],
      "metadata": {
        "colab": {
          "base_uri": "https://localhost:8080/"
        },
        "id": "kS22fMaFqZ_x",
        "outputId": "a8a158ca-c5bd-4caf-bb00-f9586e98c34a"
      },
      "execution_count": null,
      "outputs": [
        {
          "output_type": "execute_result",
          "data": {
            "text/plain": [
              "range(0, 4)"
            ]
          },
          "metadata": {},
          "execution_count": 81
        }
      ]
    },
    {
      "cell_type": "code",
      "source": [
        "l = [2,45,78,12,12,12,12,\"sudh\",6+7j,[56,67,78,\"jlha\"]]\n",
        "\n",
        "for i in range(len(l)):\n",
        "  print(\"index\", i ,\"for an element \" , l[i])"
      ],
      "metadata": {
        "colab": {
          "base_uri": "https://localhost:8080/"
        },
        "id": "Aw0kI6KAqdXH",
        "outputId": "103699b3-fea5-4577-b176-04a42c2e341b"
      },
      "execution_count": null,
      "outputs": [
        {
          "output_type": "stream",
          "name": "stdout",
          "text": [
            "index 0 for an element  2\n",
            "index 1 for an element  45\n",
            "index 2 for an element  78\n",
            "index 3 for an element  12\n",
            "index 4 for an element  12\n",
            "index 5 for an element  12\n",
            "index 6 for an element  12\n",
            "index 7 for an element  sudh\n",
            "index 8 for an element  (6+7j)\n",
            "index 9 for an element  [56, 67, 78, 'jlha']\n"
          ]
        }
      ]
    },
    {
      "cell_type": "code",
      "source": [
        "# q2 . try to extract all the list of char if elemnts is string\n",
        "l = [2,45,78,12,12,12,12,\"sudh\",6+7j,[56,67,78,\"jlha\"]]\n",
        "\n",
        "for i in l:\n",
        "  if type(i) == str:\n",
        "    l1 =[]\n",
        "    for j in i:\n",
        "      l1.append(j)\n",
        "    print(l1)"
      ],
      "metadata": {
        "colab": {
          "base_uri": "https://localhost:8080/"
        },
        "id": "xb0IYEXHlZaF",
        "outputId": "98bfc106-7052-4978-9a73-60c40124c6f9"
      },
      "execution_count": null,
      "outputs": [
        {
          "output_type": "stream",
          "name": "stdout",
          "text": [
            "['s', 'u', 'd', 'h']\n"
          ]
        }
      ]
    },
    {
      "cell_type": "code",
      "source": [
        "l = [2,45,78,12,12,12,12,\"sudh\",\"kumar\",6+7j,[56,67,78,\"jlha\"]]\n",
        "\n",
        "for i in l:\n",
        "  if type(i) == str:\n",
        "    l1 = []\n",
        "    for j in i:\n",
        "      l1.append(j)\n",
        "    print(l1)\n",
        "\n"
      ],
      "metadata": {
        "colab": {
          "base_uri": "https://localhost:8080/"
        },
        "id": "__TfNASosrYQ",
        "outputId": "6e23ae31-07c2-46c9-8236-e51323d18d6f"
      },
      "execution_count": null,
      "outputs": [
        {
          "output_type": "stream",
          "name": "stdout",
          "text": [
            "['s', 'u', 'd', 'h']\n",
            "['k', 'u', 'm', 'a', 'r']\n"
          ]
        }
      ]
    },
    {
      "cell_type": "code",
      "source": [
        "# q3. try to return a list after doing  a square of all the int elements\n",
        "\n",
        "l = [2,45,78,12,12,12,12,\"sudh\",\"kumar\",6+7j,[56,67,78,\"jlha\"]]\n",
        "\n",
        "l2 = []\n",
        "for i in l:\n",
        "  if type(i) == int:\n",
        "    l2.append(i**2)\n",
        "\n",
        "\n",
        "\n"
      ],
      "metadata": {
        "id": "1SS2kXx0lZf8"
      },
      "execution_count": null,
      "outputs": []
    },
    {
      "cell_type": "code",
      "source": [
        "l2"
      ],
      "metadata": {
        "colab": {
          "base_uri": "https://localhost:8080/"
        },
        "id": "eFE2mChUlZiz",
        "outputId": "175f1705-9e94-47a9-ec5f-ad00bf5ebd07"
      },
      "execution_count": null,
      "outputs": [
        {
          "output_type": "execute_result",
          "data": {
            "text/plain": [
              "[4, 2025, 6084, 144, 144, 144, 144]"
            ]
          },
          "metadata": {},
          "execution_count": 96
        }
      ]
    },
    {
      "cell_type": "code",
      "source": [
        "l = [2,45,78,12,12,12,12,\"sudh\",\"kumar\",6+7j,[56,67,78,\"jlha\"]]\n",
        "l1 = []\n",
        "for i in l:\n",
        "  if type(i) == complex:\n",
        "    l1.append(i)\n"
      ],
      "metadata": {
        "id": "nyQTfjje0wm9"
      },
      "execution_count": null,
      "outputs": []
    },
    {
      "cell_type": "code",
      "source": [
        "l1             # l1 = []"
      ],
      "metadata": {
        "colab": {
          "base_uri": "https://localhost:8080/"
        },
        "id": "xQeDDHJu1D2M",
        "outputId": "b7708755-0d65-4018-e16f-08678d5eeebb"
      },
      "execution_count": null,
      "outputs": [
        {
          "output_type": "execute_result",
          "data": {
            "text/plain": [
              "[(6+7j)]"
            ]
          },
          "metadata": {},
          "execution_count": 105
        }
      ]
    },
    {
      "cell_type": "code",
      "source": [
        "# next() and iter()\n",
        "                        #  'list' object is not an iterator\n",
        "                        # 'list' object is iterable\n",
        "\n",
        "l = [1,2,3,4]\n",
        "next(l)"
      ],
      "metadata": {
        "colab": {
          "base_uri": "https://localhost:8080/",
          "height": 200
        },
        "id": "tkVPFCpIhp0k",
        "outputId": "65635993-2447-4af7-d308-95f3c28c72c4"
      },
      "execution_count": null,
      "outputs": [
        {
          "output_type": "error",
          "ename": "TypeError",
          "evalue": "ignored",
          "traceback": [
            "\u001b[0;31m---------------------------------------------------------------------------\u001b[0m",
            "\u001b[0;31mTypeError\u001b[0m                                 Traceback (most recent call last)",
            "\u001b[0;32m<ipython-input-41-cd75b2788278>\u001b[0m in \u001b[0;36m<cell line: 4>\u001b[0;34m()\u001b[0m\n\u001b[1;32m      2\u001b[0m \u001b[0;34m\u001b[0m\u001b[0m\n\u001b[1;32m      3\u001b[0m \u001b[0ml\u001b[0m \u001b[0;34m=\u001b[0m \u001b[0;34m[\u001b[0m\u001b[0;36m1\u001b[0m\u001b[0;34m,\u001b[0m\u001b[0;36m2\u001b[0m\u001b[0;34m,\u001b[0m\u001b[0;36m3\u001b[0m\u001b[0;34m,\u001b[0m\u001b[0;36m4\u001b[0m\u001b[0;34m]\u001b[0m\u001b[0;34m\u001b[0m\u001b[0;34m\u001b[0m\u001b[0m\n\u001b[0;32m----> 4\u001b[0;31m \u001b[0mnext\u001b[0m\u001b[0;34m(\u001b[0m\u001b[0ml\u001b[0m\u001b[0;34m)\u001b[0m\u001b[0;34m\u001b[0m\u001b[0;34m\u001b[0m\u001b[0m\n\u001b[0m",
            "\u001b[0;31mTypeError\u001b[0m: 'list' object is not an iterator"
          ]
        }
      ]
    },
    {
      "cell_type": "code",
      "source": [
        "l = iter(l)"
      ],
      "metadata": {
        "id": "ziQtGKTjhpV0"
      },
      "execution_count": null,
      "outputs": []
    },
    {
      "cell_type": "code",
      "source": [
        "next(l)"
      ],
      "metadata": {
        "colab": {
          "base_uri": "https://localhost:8080/"
        },
        "id": "PkpEHk6hhJ2M",
        "outputId": "ce84e400-5788-4b5e-c2a9-905c14048bc0"
      },
      "execution_count": null,
      "outputs": [
        {
          "output_type": "execute_result",
          "data": {
            "text/plain": [
              "1"
            ]
          },
          "metadata": {},
          "execution_count": 43
        }
      ]
    },
    {
      "cell_type": "code",
      "source": [
        "next(l)"
      ],
      "metadata": {
        "colab": {
          "base_uri": "https://localhost:8080/"
        },
        "id": "e7NbVvaphJ46",
        "outputId": "2dab7b84-28f7-4c70-fe61-2763e953bfed"
      },
      "execution_count": null,
      "outputs": [
        {
          "output_type": "execute_result",
          "data": {
            "text/plain": [
              "2"
            ]
          },
          "metadata": {},
          "execution_count": 44
        }
      ]
    },
    {
      "cell_type": "code",
      "source": [
        "next(l)"
      ],
      "metadata": {
        "colab": {
          "base_uri": "https://localhost:8080/"
        },
        "id": "vdlullN1hJ76",
        "outputId": "95a9571c-121e-4c45-b70c-53ac3e2ea418"
      },
      "execution_count": null,
      "outputs": [
        {
          "output_type": "execute_result",
          "data": {
            "text/plain": [
              "3"
            ]
          },
          "metadata": {},
          "execution_count": 45
        }
      ]
    },
    {
      "cell_type": "code",
      "source": [
        "next(l)"
      ],
      "metadata": {
        "colab": {
          "base_uri": "https://localhost:8080/"
        },
        "id": "ppzpAdA8hJ-z",
        "outputId": "4a89236b-3c9d-46e9-8327-bc0a8f84efb9"
      },
      "execution_count": null,
      "outputs": [
        {
          "output_type": "execute_result",
          "data": {
            "text/plain": [
              "4"
            ]
          },
          "metadata": {},
          "execution_count": 46
        }
      ]
    },
    {
      "cell_type": "code",
      "source": [
        "next(l)     # StopIteration :"
      ],
      "metadata": {
        "colab": {
          "base_uri": "https://localhost:8080/",
          "height": 165
        },
        "id": "wlJb_4FchKBu",
        "outputId": "97a37431-faf7-465b-854c-a5db0c501cd6"
      },
      "execution_count": null,
      "outputs": [
        {
          "output_type": "error",
          "ename": "StopIteration",
          "evalue": "ignored",
          "traceback": [
            "\u001b[0;31m---------------------------------------------------------------------------\u001b[0m",
            "\u001b[0;31mStopIteration\u001b[0m                             Traceback (most recent call last)",
            "\u001b[0;32m<ipython-input-47-cdc8a39da60d>\u001b[0m in \u001b[0;36m<cell line: 1>\u001b[0;34m()\u001b[0m\n\u001b[0;32m----> 1\u001b[0;31m \u001b[0mnext\u001b[0m\u001b[0;34m(\u001b[0m\u001b[0ml\u001b[0m\u001b[0;34m)\u001b[0m\u001b[0;34m\u001b[0m\u001b[0;34m\u001b[0m\u001b[0m\n\u001b[0m",
            "\u001b[0;31mStopIteration\u001b[0m: "
          ]
        }
      ]
    },
    {
      "cell_type": "code",
      "source": [],
      "metadata": {
        "id": "UvaiBctXhKEz"
      },
      "execution_count": null,
      "outputs": []
    },
    {
      "cell_type": "code",
      "source": [
        "# for loop  = one by one elements  will be extrate\n",
        "# filter condition  =if_else statemnts\n"
      ],
      "metadata": {
        "id": "MyDd-hCShKI1"
      },
      "execution_count": null,
      "outputs": []
    },
    {
      "cell_type": "code",
      "source": [
        "l = [\"name\",\"emailid\",\"phonenoa\",\"address\"]\n",
        "for i in l:\n",
        "  print(i +\"sudh\")"
      ],
      "metadata": {
        "colab": {
          "base_uri": "https://localhost:8080/"
        },
        "id": "FY-9p-yh0Nu3",
        "outputId": "9b57d8fc-3089-4294-f6c6-f82cb06335b9"
      },
      "execution_count": null,
      "outputs": [
        {
          "output_type": "stream",
          "name": "stdout",
          "text": [
            "namesudh\n",
            "emailidsudh\n",
            "phonenoasudh\n",
            "addresssudh\n"
          ]
        }
      ]
    },
    {
      "cell_type": "code",
      "source": [
        "s = \"ineuron\"\n",
        "for i in s:\n",
        "  print(i)"
      ],
      "metadata": {
        "colab": {
          "base_uri": "https://localhost:8080/"
        },
        "id": "J_pqsexa0Nxv",
        "outputId": "5d101327-02c4-492b-f71a-b90b8dab1f76"
      },
      "execution_count": null,
      "outputs": [
        {
          "output_type": "stream",
          "name": "stdout",
          "text": [
            "i\n",
            "n\n",
            "e\n",
            "u\n",
            "r\n",
            "o\n",
            "n\n"
          ]
        }
      ]
    },
    {
      "cell_type": "code",
      "source": [
        "# if __ else\n",
        "## for __ else = python is use"
      ],
      "metadata": {
        "id": "QAiJw4D30N04"
      },
      "execution_count": null,
      "outputs": []
    },
    {
      "cell_type": "code",
      "source": [
        "l"
      ],
      "metadata": {
        "colab": {
          "base_uri": "https://localhost:8080/"
        },
        "id": "0aq7IRyI0N4V",
        "outputId": "0f7ebf46-3b67-4fda-8677-826e0212f2f1"
      },
      "execution_count": null,
      "outputs": [
        {
          "output_type": "execute_result",
          "data": {
            "text/plain": [
              "['name', 'emailid', 'phonenoa', 'address']"
            ]
          },
          "metadata": {},
          "execution_count": 113
        }
      ]
    },
    {
      "cell_type": "code",
      "source": [
        "for i in l:\n",
        "  print(i)\n",
        "else:\n",
        "  print(\"if for loop is going to complete itself then it will come to else\")\n"
      ],
      "metadata": {
        "colab": {
          "base_uri": "https://localhost:8080/"
        },
        "id": "BGnI17-B2eLa",
        "outputId": "19a2f20c-fe5d-44fb-b37a-6c94c76c7af7"
      },
      "execution_count": null,
      "outputs": [
        {
          "output_type": "stream",
          "name": "stdout",
          "text": [
            "name\n",
            "emailid\n",
            "phonenoa\n",
            "address\n",
            "if for loop is going to complete itself then it will come to else\n"
          ]
        }
      ]
    },
    {
      "cell_type": "code",
      "source": [
        "#\"if for loop is going to complete itself then it will come to else\""
      ],
      "metadata": {
        "id": "8VNQ596D2eOI"
      },
      "execution_count": null,
      "outputs": []
    },
    {
      "cell_type": "code",
      "source": [
        "l"
      ],
      "metadata": {
        "colab": {
          "base_uri": "https://localhost:8080/"
        },
        "id": "JLqlLDJJ46v5",
        "outputId": "49f7959a-661a-41c7-d1b0-79dab2194f6e"
      },
      "execution_count": null,
      "outputs": [
        {
          "output_type": "execute_result",
          "data": {
            "text/plain": [
              "['name', 'emailid', 'phonenoa', 'address']"
            ]
          },
          "metadata": {},
          "execution_count": 120
        }
      ]
    },
    {
      "cell_type": "code",
      "source": [
        "for i in l:\n",
        "   if i == \"emailid\":\n",
        "    break\n",
        "   print(i)\n",
        "else:\n",
        "  print(\"check this statements \")\n"
      ],
      "metadata": {
        "colab": {
          "base_uri": "https://localhost:8080/"
        },
        "id": "5uEX1OLE2eRF",
        "outputId": "eff33b5f-04b9-4f9d-cd64-312ddacfae33"
      },
      "execution_count": null,
      "outputs": [
        {
          "output_type": "stream",
          "name": "stdout",
          "text": [
            "name\n"
          ]
        }
      ]
    },
    {
      "cell_type": "code",
      "source": [
        "# break  = \"pre-define keyworld \"which is inside to the python progmaing langung."
      ],
      "metadata": {
        "id": "jnO3UhLx2eUi"
      },
      "execution_count": null,
      "outputs": []
    },
    {
      "cell_type": "code",
      "source": [
        "s =\"sudhanshu\"\n",
        "for i in s:\n",
        "  if i == \"n\":\n",
        "    break\n",
        "else:\n",
        "  print(\"dont exectute is unless and untill it is not printing my name\")\n"
      ],
      "metadata": {
        "id": "_MGvXKtM0N76"
      },
      "execution_count": null,
      "outputs": []
    },
    {
      "cell_type": "code",
      "source": [
        "# while statements(base no condition)  = only True (create loop)\n",
        "\n",
        "a = 1\n",
        "while a < 6 :\n",
        "  print(a)\n",
        "  a=a+1\n",
        "\n"
      ],
      "metadata": {
        "colab": {
          "base_uri": "https://localhost:8080/"
        },
        "id": "Il53ZG9B-89l",
        "outputId": "e649423c-a9a5-4c83-9cfc-a7f03aa91474"
      },
      "execution_count": null,
      "outputs": [
        {
          "output_type": "stream",
          "name": "stdout",
          "text": [
            "1\n",
            "2\n",
            "3\n",
            "4\n",
            "5\n"
          ]
        }
      ]
    },
    {
      "cell_type": "code",
      "source": [
        "import collections\n",
        "if 2<4: T / F st\n",
        " for loop  :collections one by one extarate"
      ],
      "metadata": {
        "id": "EdGCQ2f9hKMe"
      },
      "execution_count": null,
      "outputs": []
    },
    {
      "cell_type": "code",
      "source": [
        "a = 1\n",
        "while a < 5:\n",
        "  print(a)\n",
        "  if a == 4:\n",
        "      break\n",
        "  a = a + 1\n"
      ],
      "metadata": {
        "colab": {
          "base_uri": "https://localhost:8080/"
        },
        "id": "cCObwiG7-bm-",
        "outputId": "236601ef-4261-4af5-c5a5-4457264aee1b"
      },
      "execution_count": null,
      "outputs": [
        {
          "output_type": "stream",
          "name": "stdout",
          "text": [
            "1\n",
            "2\n",
            "3\n",
            "4\n"
          ]
        }
      ]
    },
    {
      "cell_type": "code",
      "source": [],
      "metadata": {
        "id": "V9mQZ0lK-bpz"
      },
      "execution_count": null,
      "outputs": []
    },
    {
      "cell_type": "markdown",
      "source": [
        "### for loop while loop"
      ],
      "metadata": {
        "id": "CvJvogcWa8AY"
      }
    },
    {
      "cell_type": "code",
      "source": [],
      "metadata": {
        "id": "u7ArLKIoa4Wx"
      },
      "execution_count": null,
      "outputs": []
    },
    {
      "cell_type": "code",
      "source": [],
      "metadata": {
        "id": "v_sC2oX7a4Zj"
      },
      "execution_count": null,
      "outputs": []
    },
    {
      "cell_type": "code",
      "source": [],
      "metadata": {
        "id": "-k9dOX6fa4cv"
      },
      "execution_count": null,
      "outputs": []
    },
    {
      "cell_type": "code",
      "source": [],
      "metadata": {
        "id": "War-HcVya4gN"
      },
      "execution_count": null,
      "outputs": []
    },
    {
      "cell_type": "code",
      "source": [],
      "metadata": {
        "id": "WuRhVo2_a3ZH"
      },
      "execution_count": null,
      "outputs": []
    },
    {
      "cell_type": "code",
      "source": [],
      "metadata": {
        "id": "gBDk3pK4a3bz"
      },
      "execution_count": null,
      "outputs": []
    },
    {
      "cell_type": "code",
      "source": [],
      "metadata": {
        "id": "A0aiZHmQa3eT"
      },
      "execution_count": null,
      "outputs": []
    },
    {
      "cell_type": "code",
      "source": [],
      "metadata": {
        "id": "GZpZsYpga3h0"
      },
      "execution_count": null,
      "outputs": []
    },
    {
      "cell_type": "code",
      "source": [],
      "metadata": {
        "id": "MOMYNvBsa3k3"
      },
      "execution_count": null,
      "outputs": []
    },
    {
      "cell_type": "code",
      "source": [],
      "metadata": {
        "id": "axl5LMCWa3oT"
      },
      "execution_count": null,
      "outputs": []
    },
    {
      "cell_type": "code",
      "source": [],
      "metadata": {
        "id": "PHi1MkmZ-bs9"
      },
      "execution_count": null,
      "outputs": []
    },
    {
      "cell_type": "code",
      "source": [],
      "metadata": {
        "id": "T5tasjgn-bwS"
      },
      "execution_count": null,
      "outputs": []
    },
    {
      "cell_type": "code",
      "source": [],
      "metadata": {
        "id": "SVt3WcYB-bzd"
      },
      "execution_count": null,
      "outputs": []
    }
  ]
}